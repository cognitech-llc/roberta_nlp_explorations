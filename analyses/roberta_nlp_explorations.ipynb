{
  "nbformat": 4,
  "nbformat_minor": 0,
  "metadata": {
    "colab": {
      "name": "roberta_nlp_explorations.ipynb",
      "provenance": [],
      "collapsed_sections": []
    },
    "kernelspec": {
      "name": "python3",
      "display_name": "Python 3"
    },
    "accelerator": "TPU"
  },
  "cells": [
    {
      "cell_type": "markdown",
      "metadata": {
        "id": "GdJCGtThCXPC",
        "colab_type": "text"
      },
      "source": [
        ""
      ]
    },
    {
      "cell_type": "markdown",
      "metadata": {
        "id": "bQmLMZfgGxZm",
        "colab_type": "text"
      },
      "source": [
        "# Initial RoBERTa NLP Explorations\n",
        "\n",
        "Author: Cognitech LLC"
      ]
    },
    {
      "cell_type": "markdown",
      "metadata": {
        "id": "f6b9WPlcG567",
        "colab_type": "text"
      },
      "source": [
        "### Environment Setup"
      ]
    },
    {
      "cell_type": "markdown",
      "metadata": {
        "id": "0kObhh2bLbN4",
        "colab_type": "text"
      },
      "source": [
        "__USE_TPU:-__ True, If you want to use TPU runtime. First change Colab Notebook runtype to TPU\n",
        "\n",
        "## Pre-trained models\n",
        "\n",
        "Model | Description | # params | Download\n",
        "---|---|---|---\n",
        "`roberta.base` | RoBERTa using the BERT-base architecture | 125M | [roberta.base.tar.gz](https://dl.fbaipublicfiles.com/fairseq/models/roberta.base.tar.gz)\n",
        "`roberta.large` | RoBERTa using the BERT-large architecture | 355M | [roberta.large.tar.gz](https://dl.fbaipublicfiles.com/fairseq/models/roberta.large.tar.gz)\n",
        "`roberta.large.mnli` | `roberta.large` finetuned on [MNLI](http://www.nyu.edu/projects/bowman/multinli) | 355M | [roberta.large.mnli.tar.gz](https://dl.fbaipublicfiles.com/fairseq/models/roberta.large.mnli.tar.gz)\n",
        "`roberta.large.wsc` | `roberta.large` finetuned on [WSC](wsc/README.md) | 355M | [roberta.large.wsc.tar.gz](https://dl.fbaipublicfiles.com/fairseq/models/roberta.large.wsc.tar.gz)"
      ]
    },
    {
      "cell_type": "markdown",
      "metadata": {
        "id": "o1KHTgOWhbPg",
        "colab_type": "text"
      },
      "source": [
        "### Imports and hardware and software verification"
      ]
    },
    {
      "cell_type": "code",
      "metadata": {
        "id": "xA7jHZNpCcIH",
        "colab_type": "code",
        "outputId": "f949c70c-aeb8-4e8d-c23c-b8d8bcd8a419",
        "colab": {
          "base_uri": "https://localhost:8080/",
          "height": 275
        }
      },
      "source": [
        "!pip install splinter"
      ],
      "execution_count": 1,
      "outputs": [
        {
          "output_type": "stream",
          "text": [
            "Collecting splinter\n",
            "  Downloading https://files.pythonhosted.org/packages/4e/33/6d6e3abeb0fa47284f2d3b74de7f72018a3af0267b0752b9e7c66175c99e/splinter-0.11.0.tar.gz\n",
            "Collecting selenium>=3.141.0 (from splinter)\n",
            "\u001b[?25l  Downloading https://files.pythonhosted.org/packages/80/d6/4294f0b4bce4de0abf13e17190289f9d0613b0a44e5dd6a7f5ca98459853/selenium-3.141.0-py2.py3-none-any.whl (904kB)\n",
            "\u001b[K     |████████████████████████████████| 911kB 5.2MB/s \n",
            "\u001b[?25hRequirement already satisfied: six in /usr/local/lib/python3.6/dist-packages (from splinter) (1.12.0)\n",
            "Requirement already satisfied: urllib3 in /usr/local/lib/python3.6/dist-packages (from selenium>=3.141.0->splinter) (1.24.3)\n",
            "Building wheels for collected packages: splinter\n",
            "  Building wheel for splinter (setup.py) ... \u001b[?25l\u001b[?25hdone\n",
            "  Created wheel for splinter: filename=splinter-0.11.0-cp36-none-any.whl size=30144 sha256=fa74ebf66e992f7527efd545c50d51bad073326ea7e71dd40a067a44198d836d\n",
            "  Stored in directory: /root/.cache/pip/wheels/9c/e1/35/4809427c48cb88853ddc1e701e9c5629bf192ae9324f2d0042\n",
            "Successfully built splinter\n",
            "Installing collected packages: selenium, splinter\n",
            "Successfully installed selenium-3.141.0 splinter-0.11.0\n"
          ],
          "name": "stdout"
        }
      ]
    },
    {
      "cell_type": "code",
      "metadata": {
        "id": "vpbr3-cJCjLx",
        "colab_type": "code",
        "outputId": "c6082789-9f53-4d99-ba48-b5a1e5046473",
        "colab": {
          "base_uri": "https://localhost:8080/",
          "height": 51
        }
      },
      "source": [
        "!pip install bs4"
      ],
      "execution_count": 2,
      "outputs": [
        {
          "output_type": "stream",
          "text": [
            "Requirement already satisfied: bs4 in /usr/local/lib/python3.6/dist-packages (0.0.1)\n",
            "Requirement already satisfied: beautifulsoup4 in /usr/local/lib/python3.6/dist-packages (from bs4) (4.6.3)\n"
          ],
          "name": "stdout"
        }
      ]
    },
    {
      "cell_type": "code",
      "metadata": {
        "id": "hftr29Nxiblj",
        "colab_type": "code",
        "outputId": "e003152c-6434-470d-bcae-69486b218e66",
        "colab": {
          "base_uri": "https://localhost:8080/",
          "height": 122
        }
      },
      "source": [
        "!pip install regex"
      ],
      "execution_count": 3,
      "outputs": [
        {
          "output_type": "stream",
          "text": [
            "Collecting regex\n",
            "\u001b[?25l  Downloading https://files.pythonhosted.org/packages/ff/60/d9782c56ceefa76033a00e1f84cd8c586c75e6e7fea2cd45ee8b46a386c5/regex-2019.08.19-cp36-cp36m-manylinux1_x86_64.whl (643kB)\n",
            "\u001b[K     |████████████████████████████████| 645kB 3.0MB/s \n",
            "\u001b[?25hInstalling collected packages: regex\n",
            "Successfully installed regex-2019.8.19\n"
          ],
          "name": "stdout"
        }
      ]
    },
    {
      "cell_type": "code",
      "metadata": {
        "id": "5mr9xeIzG2Bo",
        "colab_type": "code",
        "colab": {}
      },
      "source": [
        "from __future__ import absolute_import, division, print_function, unicode_literals\n",
        "\n",
        "# Import TensorFlow\n",
        "import tensorflow as tf\n",
        "\n",
        "# Helper libraries\n",
        "import numpy as np\n",
        "import os\n",
        "\n",
        "assert os.environ['COLAB_TPU_ADDR'], 'Make sure to select TPU from Edit > Notebook settings > Hardware accelerator'\n",
        "\n",
        "assert float('.'.join(tf.__version__.split('.')[:2])) >= 1.14, 'Make sure that Tensorflow version is at least 1.14'\n",
        "\n",
        "# Web Scraping\n",
        "from splinter import Browser\n",
        "from bs4 import BeautifulSoup"
      ],
      "execution_count": 0,
      "outputs": []
    },
    {
      "cell_type": "code",
      "metadata": {
        "id": "awpOIBJ5Gdfs",
        "colab_type": "code",
        "colab": {}
      },
      "source": [
        "TPU_WORKER = 'grpc://' + os.environ['COLAB_TPU_ADDR']"
      ],
      "execution_count": 0,
      "outputs": []
    },
    {
      "cell_type": "markdown",
      "metadata": {
        "id": "JLTlHk7thtMK",
        "colab_type": "text"
      },
      "source": [
        "### Load RoBERTa from torch.hub (PyTorch >= 1.1):"
      ]
    },
    {
      "cell_type": "code",
      "metadata": {
        "id": "VH8Nxb0EhzNk",
        "colab_type": "code",
        "outputId": "94d061a6-dd36-4b49-cffc-5c540caa5b4c",
        "colab": {
          "base_uri": "https://localhost:8080/",
          "height": 1000
        }
      },
      "source": [
        "import torch\n",
        "roberta = torch.hub.load('pytorch/fairseq', 'roberta.large')\n",
        "roberta.eval()  # disable dropout (or leave in train mode to finetune)"
      ],
      "execution_count": 5,
      "outputs": [
        {
          "output_type": "stream",
          "text": [
            "Downloading: \"https://github.com/pytorch/fairseq/archive/master.zip\" to /root/.cache/torch/hub/master.zip\n",
            "100%|██████████| 655283069/655283069 [00:17<00:00, 37119719.06B/s]\n"
          ],
          "name": "stderr"
        },
        {
          "output_type": "stream",
          "text": [
            "loading archive file http://dl.fbaipublicfiles.com/fairseq/models/roberta.large.tar.gz from cache at /root/.cache/torch/pytorch_fairseq/83e3a689e28e5e4696ecb0bbb05a77355444a5c8a3437e0f736d8a564e80035e.c687083d14776c1979f3f71654febb42f2bb3d9a94ff7ebdfe1ac6748dba89d2\n",
            "extracting archive file /root/.cache/torch/pytorch_fairseq/83e3a689e28e5e4696ecb0bbb05a77355444a5c8a3437e0f736d8a564e80035e.c687083d14776c1979f3f71654febb42f2bb3d9a94ff7ebdfe1ac6748dba89d2 to temp dir /tmp/tmp5elu94d8\n",
            "| dictionary: 50264 types\n"
          ],
          "name": "stdout"
        },
        {
          "output_type": "stream",
          "text": [
            "1042301B [00:00, 2565164.20B/s]\n",
            "456318B [00:00, 2000449.87B/s]\n"
          ],
          "name": "stderr"
        },
        {
          "output_type": "execute_result",
          "data": {
            "text/plain": [
              "RobertaHubInterface(\n",
              "  (model): RobertaModel(\n",
              "    (decoder): RobertaEncoder(\n",
              "      (sentence_encoder): TransformerSentenceEncoder(\n",
              "        (embed_tokens): Embedding(50265, 1024, padding_idx=1)\n",
              "        (embed_positions): LearnedPositionalEmbedding(514, 1024, padding_idx=1)\n",
              "        (layers): ModuleList(\n",
              "          (0): TransformerSentenceEncoderLayer(\n",
              "            (self_attn): MultiheadAttention(\n",
              "              (out_proj): Linear(in_features=1024, out_features=1024, bias=True)\n",
              "            )\n",
              "            (self_attn_layer_norm): LayerNorm((1024,), eps=1e-05, elementwise_affine=True)\n",
              "            (fc1): Linear(in_features=1024, out_features=4096, bias=True)\n",
              "            (fc2): Linear(in_features=4096, out_features=1024, bias=True)\n",
              "            (final_layer_norm): LayerNorm((1024,), eps=1e-05, elementwise_affine=True)\n",
              "          )\n",
              "          (1): TransformerSentenceEncoderLayer(\n",
              "            (self_attn): MultiheadAttention(\n",
              "              (out_proj): Linear(in_features=1024, out_features=1024, bias=True)\n",
              "            )\n",
              "            (self_attn_layer_norm): LayerNorm((1024,), eps=1e-05, elementwise_affine=True)\n",
              "            (fc1): Linear(in_features=1024, out_features=4096, bias=True)\n",
              "            (fc2): Linear(in_features=4096, out_features=1024, bias=True)\n",
              "            (final_layer_norm): LayerNorm((1024,), eps=1e-05, elementwise_affine=True)\n",
              "          )\n",
              "          (2): TransformerSentenceEncoderLayer(\n",
              "            (self_attn): MultiheadAttention(\n",
              "              (out_proj): Linear(in_features=1024, out_features=1024, bias=True)\n",
              "            )\n",
              "            (self_attn_layer_norm): LayerNorm((1024,), eps=1e-05, elementwise_affine=True)\n",
              "            (fc1): Linear(in_features=1024, out_features=4096, bias=True)\n",
              "            (fc2): Linear(in_features=4096, out_features=1024, bias=True)\n",
              "            (final_layer_norm): LayerNorm((1024,), eps=1e-05, elementwise_affine=True)\n",
              "          )\n",
              "          (3): TransformerSentenceEncoderLayer(\n",
              "            (self_attn): MultiheadAttention(\n",
              "              (out_proj): Linear(in_features=1024, out_features=1024, bias=True)\n",
              "            )\n",
              "            (self_attn_layer_norm): LayerNorm((1024,), eps=1e-05, elementwise_affine=True)\n",
              "            (fc1): Linear(in_features=1024, out_features=4096, bias=True)\n",
              "            (fc2): Linear(in_features=4096, out_features=1024, bias=True)\n",
              "            (final_layer_norm): LayerNorm((1024,), eps=1e-05, elementwise_affine=True)\n",
              "          )\n",
              "          (4): TransformerSentenceEncoderLayer(\n",
              "            (self_attn): MultiheadAttention(\n",
              "              (out_proj): Linear(in_features=1024, out_features=1024, bias=True)\n",
              "            )\n",
              "            (self_attn_layer_norm): LayerNorm((1024,), eps=1e-05, elementwise_affine=True)\n",
              "            (fc1): Linear(in_features=1024, out_features=4096, bias=True)\n",
              "            (fc2): Linear(in_features=4096, out_features=1024, bias=True)\n",
              "            (final_layer_norm): LayerNorm((1024,), eps=1e-05, elementwise_affine=True)\n",
              "          )\n",
              "          (5): TransformerSentenceEncoderLayer(\n",
              "            (self_attn): MultiheadAttention(\n",
              "              (out_proj): Linear(in_features=1024, out_features=1024, bias=True)\n",
              "            )\n",
              "            (self_attn_layer_norm): LayerNorm((1024,), eps=1e-05, elementwise_affine=True)\n",
              "            (fc1): Linear(in_features=1024, out_features=4096, bias=True)\n",
              "            (fc2): Linear(in_features=4096, out_features=1024, bias=True)\n",
              "            (final_layer_norm): LayerNorm((1024,), eps=1e-05, elementwise_affine=True)\n",
              "          )\n",
              "          (6): TransformerSentenceEncoderLayer(\n",
              "            (self_attn): MultiheadAttention(\n",
              "              (out_proj): Linear(in_features=1024, out_features=1024, bias=True)\n",
              "            )\n",
              "            (self_attn_layer_norm): LayerNorm((1024,), eps=1e-05, elementwise_affine=True)\n",
              "            (fc1): Linear(in_features=1024, out_features=4096, bias=True)\n",
              "            (fc2): Linear(in_features=4096, out_features=1024, bias=True)\n",
              "            (final_layer_norm): LayerNorm((1024,), eps=1e-05, elementwise_affine=True)\n",
              "          )\n",
              "          (7): TransformerSentenceEncoderLayer(\n",
              "            (self_attn): MultiheadAttention(\n",
              "              (out_proj): Linear(in_features=1024, out_features=1024, bias=True)\n",
              "            )\n",
              "            (self_attn_layer_norm): LayerNorm((1024,), eps=1e-05, elementwise_affine=True)\n",
              "            (fc1): Linear(in_features=1024, out_features=4096, bias=True)\n",
              "            (fc2): Linear(in_features=4096, out_features=1024, bias=True)\n",
              "            (final_layer_norm): LayerNorm((1024,), eps=1e-05, elementwise_affine=True)\n",
              "          )\n",
              "          (8): TransformerSentenceEncoderLayer(\n",
              "            (self_attn): MultiheadAttention(\n",
              "              (out_proj): Linear(in_features=1024, out_features=1024, bias=True)\n",
              "            )\n",
              "            (self_attn_layer_norm): LayerNorm((1024,), eps=1e-05, elementwise_affine=True)\n",
              "            (fc1): Linear(in_features=1024, out_features=4096, bias=True)\n",
              "            (fc2): Linear(in_features=4096, out_features=1024, bias=True)\n",
              "            (final_layer_norm): LayerNorm((1024,), eps=1e-05, elementwise_affine=True)\n",
              "          )\n",
              "          (9): TransformerSentenceEncoderLayer(\n",
              "            (self_attn): MultiheadAttention(\n",
              "              (out_proj): Linear(in_features=1024, out_features=1024, bias=True)\n",
              "            )\n",
              "            (self_attn_layer_norm): LayerNorm((1024,), eps=1e-05, elementwise_affine=True)\n",
              "            (fc1): Linear(in_features=1024, out_features=4096, bias=True)\n",
              "            (fc2): Linear(in_features=4096, out_features=1024, bias=True)\n",
              "            (final_layer_norm): LayerNorm((1024,), eps=1e-05, elementwise_affine=True)\n",
              "          )\n",
              "          (10): TransformerSentenceEncoderLayer(\n",
              "            (self_attn): MultiheadAttention(\n",
              "              (out_proj): Linear(in_features=1024, out_features=1024, bias=True)\n",
              "            )\n",
              "            (self_attn_layer_norm): LayerNorm((1024,), eps=1e-05, elementwise_affine=True)\n",
              "            (fc1): Linear(in_features=1024, out_features=4096, bias=True)\n",
              "            (fc2): Linear(in_features=4096, out_features=1024, bias=True)\n",
              "            (final_layer_norm): LayerNorm((1024,), eps=1e-05, elementwise_affine=True)\n",
              "          )\n",
              "          (11): TransformerSentenceEncoderLayer(\n",
              "            (self_attn): MultiheadAttention(\n",
              "              (out_proj): Linear(in_features=1024, out_features=1024, bias=True)\n",
              "            )\n",
              "            (self_attn_layer_norm): LayerNorm((1024,), eps=1e-05, elementwise_affine=True)\n",
              "            (fc1): Linear(in_features=1024, out_features=4096, bias=True)\n",
              "            (fc2): Linear(in_features=4096, out_features=1024, bias=True)\n",
              "            (final_layer_norm): LayerNorm((1024,), eps=1e-05, elementwise_affine=True)\n",
              "          )\n",
              "          (12): TransformerSentenceEncoderLayer(\n",
              "            (self_attn): MultiheadAttention(\n",
              "              (out_proj): Linear(in_features=1024, out_features=1024, bias=True)\n",
              "            )\n",
              "            (self_attn_layer_norm): LayerNorm((1024,), eps=1e-05, elementwise_affine=True)\n",
              "            (fc1): Linear(in_features=1024, out_features=4096, bias=True)\n",
              "            (fc2): Linear(in_features=4096, out_features=1024, bias=True)\n",
              "            (final_layer_norm): LayerNorm((1024,), eps=1e-05, elementwise_affine=True)\n",
              "          )\n",
              "          (13): TransformerSentenceEncoderLayer(\n",
              "            (self_attn): MultiheadAttention(\n",
              "              (out_proj): Linear(in_features=1024, out_features=1024, bias=True)\n",
              "            )\n",
              "            (self_attn_layer_norm): LayerNorm((1024,), eps=1e-05, elementwise_affine=True)\n",
              "            (fc1): Linear(in_features=1024, out_features=4096, bias=True)\n",
              "            (fc2): Linear(in_features=4096, out_features=1024, bias=True)\n",
              "            (final_layer_norm): LayerNorm((1024,), eps=1e-05, elementwise_affine=True)\n",
              "          )\n",
              "          (14): TransformerSentenceEncoderLayer(\n",
              "            (self_attn): MultiheadAttention(\n",
              "              (out_proj): Linear(in_features=1024, out_features=1024, bias=True)\n",
              "            )\n",
              "            (self_attn_layer_norm): LayerNorm((1024,), eps=1e-05, elementwise_affine=True)\n",
              "            (fc1): Linear(in_features=1024, out_features=4096, bias=True)\n",
              "            (fc2): Linear(in_features=4096, out_features=1024, bias=True)\n",
              "            (final_layer_norm): LayerNorm((1024,), eps=1e-05, elementwise_affine=True)\n",
              "          )\n",
              "          (15): TransformerSentenceEncoderLayer(\n",
              "            (self_attn): MultiheadAttention(\n",
              "              (out_proj): Linear(in_features=1024, out_features=1024, bias=True)\n",
              "            )\n",
              "            (self_attn_layer_norm): LayerNorm((1024,), eps=1e-05, elementwise_affine=True)\n",
              "            (fc1): Linear(in_features=1024, out_features=4096, bias=True)\n",
              "            (fc2): Linear(in_features=4096, out_features=1024, bias=True)\n",
              "            (final_layer_norm): LayerNorm((1024,), eps=1e-05, elementwise_affine=True)\n",
              "          )\n",
              "          (16): TransformerSentenceEncoderLayer(\n",
              "            (self_attn): MultiheadAttention(\n",
              "              (out_proj): Linear(in_features=1024, out_features=1024, bias=True)\n",
              "            )\n",
              "            (self_attn_layer_norm): LayerNorm((1024,), eps=1e-05, elementwise_affine=True)\n",
              "            (fc1): Linear(in_features=1024, out_features=4096, bias=True)\n",
              "            (fc2): Linear(in_features=4096, out_features=1024, bias=True)\n",
              "            (final_layer_norm): LayerNorm((1024,), eps=1e-05, elementwise_affine=True)\n",
              "          )\n",
              "          (17): TransformerSentenceEncoderLayer(\n",
              "            (self_attn): MultiheadAttention(\n",
              "              (out_proj): Linear(in_features=1024, out_features=1024, bias=True)\n",
              "            )\n",
              "            (self_attn_layer_norm): LayerNorm((1024,), eps=1e-05, elementwise_affine=True)\n",
              "            (fc1): Linear(in_features=1024, out_features=4096, bias=True)\n",
              "            (fc2): Linear(in_features=4096, out_features=1024, bias=True)\n",
              "            (final_layer_norm): LayerNorm((1024,), eps=1e-05, elementwise_affine=True)\n",
              "          )\n",
              "          (18): TransformerSentenceEncoderLayer(\n",
              "            (self_attn): MultiheadAttention(\n",
              "              (out_proj): Linear(in_features=1024, out_features=1024, bias=True)\n",
              "            )\n",
              "            (self_attn_layer_norm): LayerNorm((1024,), eps=1e-05, elementwise_affine=True)\n",
              "            (fc1): Linear(in_features=1024, out_features=4096, bias=True)\n",
              "            (fc2): Linear(in_features=4096, out_features=1024, bias=True)\n",
              "            (final_layer_norm): LayerNorm((1024,), eps=1e-05, elementwise_affine=True)\n",
              "          )\n",
              "          (19): TransformerSentenceEncoderLayer(\n",
              "            (self_attn): MultiheadAttention(\n",
              "              (out_proj): Linear(in_features=1024, out_features=1024, bias=True)\n",
              "            )\n",
              "            (self_attn_layer_norm): LayerNorm((1024,), eps=1e-05, elementwise_affine=True)\n",
              "            (fc1): Linear(in_features=1024, out_features=4096, bias=True)\n",
              "            (fc2): Linear(in_features=4096, out_features=1024, bias=True)\n",
              "            (final_layer_norm): LayerNorm((1024,), eps=1e-05, elementwise_affine=True)\n",
              "          )\n",
              "          (20): TransformerSentenceEncoderLayer(\n",
              "            (self_attn): MultiheadAttention(\n",
              "              (out_proj): Linear(in_features=1024, out_features=1024, bias=True)\n",
              "            )\n",
              "            (self_attn_layer_norm): LayerNorm((1024,), eps=1e-05, elementwise_affine=True)\n",
              "            (fc1): Linear(in_features=1024, out_features=4096, bias=True)\n",
              "            (fc2): Linear(in_features=4096, out_features=1024, bias=True)\n",
              "            (final_layer_norm): LayerNorm((1024,), eps=1e-05, elementwise_affine=True)\n",
              "          )\n",
              "          (21): TransformerSentenceEncoderLayer(\n",
              "            (self_attn): MultiheadAttention(\n",
              "              (out_proj): Linear(in_features=1024, out_features=1024, bias=True)\n",
              "            )\n",
              "            (self_attn_layer_norm): LayerNorm((1024,), eps=1e-05, elementwise_affine=True)\n",
              "            (fc1): Linear(in_features=1024, out_features=4096, bias=True)\n",
              "            (fc2): Linear(in_features=4096, out_features=1024, bias=True)\n",
              "            (final_layer_norm): LayerNorm((1024,), eps=1e-05, elementwise_affine=True)\n",
              "          )\n",
              "          (22): TransformerSentenceEncoderLayer(\n",
              "            (self_attn): MultiheadAttention(\n",
              "              (out_proj): Linear(in_features=1024, out_features=1024, bias=True)\n",
              "            )\n",
              "            (self_attn_layer_norm): LayerNorm((1024,), eps=1e-05, elementwise_affine=True)\n",
              "            (fc1): Linear(in_features=1024, out_features=4096, bias=True)\n",
              "            (fc2): Linear(in_features=4096, out_features=1024, bias=True)\n",
              "            (final_layer_norm): LayerNorm((1024,), eps=1e-05, elementwise_affine=True)\n",
              "          )\n",
              "          (23): TransformerSentenceEncoderLayer(\n",
              "            (self_attn): MultiheadAttention(\n",
              "              (out_proj): Linear(in_features=1024, out_features=1024, bias=True)\n",
              "            )\n",
              "            (self_attn_layer_norm): LayerNorm((1024,), eps=1e-05, elementwise_affine=True)\n",
              "            (fc1): Linear(in_features=1024, out_features=4096, bias=True)\n",
              "            (fc2): Linear(in_features=4096, out_features=1024, bias=True)\n",
              "            (final_layer_norm): LayerNorm((1024,), eps=1e-05, elementwise_affine=True)\n",
              "          )\n",
              "        )\n",
              "        (emb_layer_norm): LayerNorm((1024,), eps=1e-05, elementwise_affine=True)\n",
              "      )\n",
              "      (lm_head): RobertaLMHead(\n",
              "        (dense): Linear(in_features=1024, out_features=1024, bias=True)\n",
              "        (layer_norm): LayerNorm((1024,), eps=1e-05, elementwise_affine=True)\n",
              "      )\n",
              "    )\n",
              "    (classification_heads): ModuleDict()\n",
              "  )\n",
              ")"
            ]
          },
          "metadata": {
            "tags": []
          },
          "execution_count": 5
        }
      ]
    },
    {
      "cell_type": "markdown",
      "metadata": {
        "id": "ptOr3Wa0i4Nw",
        "colab_type": "text"
      },
      "source": [
        "### Use RoBERTa for sentence-pair classification tasks:"
      ]
    },
    {
      "cell_type": "code",
      "metadata": {
        "id": "MCYxLwH6i3Rq",
        "colab_type": "code",
        "outputId": "667d8445-6b7f-47dc-8bd0-9fd1e31a75f4",
        "colab": {
          "base_uri": "https://localhost:8080/",
          "height": 1000
        }
      },
      "source": [
        "# Download RoBERTa already finetuned for MNLI (Multi Natural Language Interface)\n",
        "roberta = torch.hub.load('pytorch/fairseq', 'roberta.large.mnli')\n",
        "roberta.eval()  # disable dropout for evaluation"
      ],
      "execution_count": 6,
      "outputs": [
        {
          "output_type": "stream",
          "text": [
            "Using cache found in /root/.cache/torch/hub/pytorch_fairseq_master\n",
            "100%|██████████| 751652118/751652118 [00:19<00:00, 38175956.89B/s]\n"
          ],
          "name": "stderr"
        },
        {
          "output_type": "stream",
          "text": [
            "loading archive file http://dl.fbaipublicfiles.com/fairseq/models/roberta.large.mnli.tar.gz from cache at /root/.cache/torch/pytorch_fairseq/7685ba8546f9a5ce1a00c7a6d7d44f7e748d22681172f0f391c3d48f487c801c.74e37d47306b3cc51c5f8d335022a392c29f1906c8cd9e9cd3446d7422cf55d8\n",
            "extracting archive file /root/.cache/torch/pytorch_fairseq/7685ba8546f9a5ce1a00c7a6d7d44f7e748d22681172f0f391c3d48f487c801c.74e37d47306b3cc51c5f8d335022a392c29f1906c8cd9e9cd3446d7422cf55d8 to temp dir /tmp/tmpg6v9qara\n",
            "| dictionary: 50264 types\n"
          ],
          "name": "stdout"
        },
        {
          "output_type": "execute_result",
          "data": {
            "text/plain": [
              "RobertaHubInterface(\n",
              "  (model): RobertaModel(\n",
              "    (decoder): RobertaEncoder(\n",
              "      (sentence_encoder): TransformerSentenceEncoder(\n",
              "        (embed_tokens): Embedding(50265, 1024, padding_idx=1)\n",
              "        (embed_positions): LearnedPositionalEmbedding(514, 1024, padding_idx=1)\n",
              "        (layers): ModuleList(\n",
              "          (0): TransformerSentenceEncoderLayer(\n",
              "            (self_attn): MultiheadAttention(\n",
              "              (out_proj): Linear(in_features=1024, out_features=1024, bias=True)\n",
              "            )\n",
              "            (self_attn_layer_norm): LayerNorm((1024,), eps=1e-05, elementwise_affine=True)\n",
              "            (fc1): Linear(in_features=1024, out_features=4096, bias=True)\n",
              "            (fc2): Linear(in_features=4096, out_features=1024, bias=True)\n",
              "            (final_layer_norm): LayerNorm((1024,), eps=1e-05, elementwise_affine=True)\n",
              "          )\n",
              "          (1): TransformerSentenceEncoderLayer(\n",
              "            (self_attn): MultiheadAttention(\n",
              "              (out_proj): Linear(in_features=1024, out_features=1024, bias=True)\n",
              "            )\n",
              "            (self_attn_layer_norm): LayerNorm((1024,), eps=1e-05, elementwise_affine=True)\n",
              "            (fc1): Linear(in_features=1024, out_features=4096, bias=True)\n",
              "            (fc2): Linear(in_features=4096, out_features=1024, bias=True)\n",
              "            (final_layer_norm): LayerNorm((1024,), eps=1e-05, elementwise_affine=True)\n",
              "          )\n",
              "          (2): TransformerSentenceEncoderLayer(\n",
              "            (self_attn): MultiheadAttention(\n",
              "              (out_proj): Linear(in_features=1024, out_features=1024, bias=True)\n",
              "            )\n",
              "            (self_attn_layer_norm): LayerNorm((1024,), eps=1e-05, elementwise_affine=True)\n",
              "            (fc1): Linear(in_features=1024, out_features=4096, bias=True)\n",
              "            (fc2): Linear(in_features=4096, out_features=1024, bias=True)\n",
              "            (final_layer_norm): LayerNorm((1024,), eps=1e-05, elementwise_affine=True)\n",
              "          )\n",
              "          (3): TransformerSentenceEncoderLayer(\n",
              "            (self_attn): MultiheadAttention(\n",
              "              (out_proj): Linear(in_features=1024, out_features=1024, bias=True)\n",
              "            )\n",
              "            (self_attn_layer_norm): LayerNorm((1024,), eps=1e-05, elementwise_affine=True)\n",
              "            (fc1): Linear(in_features=1024, out_features=4096, bias=True)\n",
              "            (fc2): Linear(in_features=4096, out_features=1024, bias=True)\n",
              "            (final_layer_norm): LayerNorm((1024,), eps=1e-05, elementwise_affine=True)\n",
              "          )\n",
              "          (4): TransformerSentenceEncoderLayer(\n",
              "            (self_attn): MultiheadAttention(\n",
              "              (out_proj): Linear(in_features=1024, out_features=1024, bias=True)\n",
              "            )\n",
              "            (self_attn_layer_norm): LayerNorm((1024,), eps=1e-05, elementwise_affine=True)\n",
              "            (fc1): Linear(in_features=1024, out_features=4096, bias=True)\n",
              "            (fc2): Linear(in_features=4096, out_features=1024, bias=True)\n",
              "            (final_layer_norm): LayerNorm((1024,), eps=1e-05, elementwise_affine=True)\n",
              "          )\n",
              "          (5): TransformerSentenceEncoderLayer(\n",
              "            (self_attn): MultiheadAttention(\n",
              "              (out_proj): Linear(in_features=1024, out_features=1024, bias=True)\n",
              "            )\n",
              "            (self_attn_layer_norm): LayerNorm((1024,), eps=1e-05, elementwise_affine=True)\n",
              "            (fc1): Linear(in_features=1024, out_features=4096, bias=True)\n",
              "            (fc2): Linear(in_features=4096, out_features=1024, bias=True)\n",
              "            (final_layer_norm): LayerNorm((1024,), eps=1e-05, elementwise_affine=True)\n",
              "          )\n",
              "          (6): TransformerSentenceEncoderLayer(\n",
              "            (self_attn): MultiheadAttention(\n",
              "              (out_proj): Linear(in_features=1024, out_features=1024, bias=True)\n",
              "            )\n",
              "            (self_attn_layer_norm): LayerNorm((1024,), eps=1e-05, elementwise_affine=True)\n",
              "            (fc1): Linear(in_features=1024, out_features=4096, bias=True)\n",
              "            (fc2): Linear(in_features=4096, out_features=1024, bias=True)\n",
              "            (final_layer_norm): LayerNorm((1024,), eps=1e-05, elementwise_affine=True)\n",
              "          )\n",
              "          (7): TransformerSentenceEncoderLayer(\n",
              "            (self_attn): MultiheadAttention(\n",
              "              (out_proj): Linear(in_features=1024, out_features=1024, bias=True)\n",
              "            )\n",
              "            (self_attn_layer_norm): LayerNorm((1024,), eps=1e-05, elementwise_affine=True)\n",
              "            (fc1): Linear(in_features=1024, out_features=4096, bias=True)\n",
              "            (fc2): Linear(in_features=4096, out_features=1024, bias=True)\n",
              "            (final_layer_norm): LayerNorm((1024,), eps=1e-05, elementwise_affine=True)\n",
              "          )\n",
              "          (8): TransformerSentenceEncoderLayer(\n",
              "            (self_attn): MultiheadAttention(\n",
              "              (out_proj): Linear(in_features=1024, out_features=1024, bias=True)\n",
              "            )\n",
              "            (self_attn_layer_norm): LayerNorm((1024,), eps=1e-05, elementwise_affine=True)\n",
              "            (fc1): Linear(in_features=1024, out_features=4096, bias=True)\n",
              "            (fc2): Linear(in_features=4096, out_features=1024, bias=True)\n",
              "            (final_layer_norm): LayerNorm((1024,), eps=1e-05, elementwise_affine=True)\n",
              "          )\n",
              "          (9): TransformerSentenceEncoderLayer(\n",
              "            (self_attn): MultiheadAttention(\n",
              "              (out_proj): Linear(in_features=1024, out_features=1024, bias=True)\n",
              "            )\n",
              "            (self_attn_layer_norm): LayerNorm((1024,), eps=1e-05, elementwise_affine=True)\n",
              "            (fc1): Linear(in_features=1024, out_features=4096, bias=True)\n",
              "            (fc2): Linear(in_features=4096, out_features=1024, bias=True)\n",
              "            (final_layer_norm): LayerNorm((1024,), eps=1e-05, elementwise_affine=True)\n",
              "          )\n",
              "          (10): TransformerSentenceEncoderLayer(\n",
              "            (self_attn): MultiheadAttention(\n",
              "              (out_proj): Linear(in_features=1024, out_features=1024, bias=True)\n",
              "            )\n",
              "            (self_attn_layer_norm): LayerNorm((1024,), eps=1e-05, elementwise_affine=True)\n",
              "            (fc1): Linear(in_features=1024, out_features=4096, bias=True)\n",
              "            (fc2): Linear(in_features=4096, out_features=1024, bias=True)\n",
              "            (final_layer_norm): LayerNorm((1024,), eps=1e-05, elementwise_affine=True)\n",
              "          )\n",
              "          (11): TransformerSentenceEncoderLayer(\n",
              "            (self_attn): MultiheadAttention(\n",
              "              (out_proj): Linear(in_features=1024, out_features=1024, bias=True)\n",
              "            )\n",
              "            (self_attn_layer_norm): LayerNorm((1024,), eps=1e-05, elementwise_affine=True)\n",
              "            (fc1): Linear(in_features=1024, out_features=4096, bias=True)\n",
              "            (fc2): Linear(in_features=4096, out_features=1024, bias=True)\n",
              "            (final_layer_norm): LayerNorm((1024,), eps=1e-05, elementwise_affine=True)\n",
              "          )\n",
              "          (12): TransformerSentenceEncoderLayer(\n",
              "            (self_attn): MultiheadAttention(\n",
              "              (out_proj): Linear(in_features=1024, out_features=1024, bias=True)\n",
              "            )\n",
              "            (self_attn_layer_norm): LayerNorm((1024,), eps=1e-05, elementwise_affine=True)\n",
              "            (fc1): Linear(in_features=1024, out_features=4096, bias=True)\n",
              "            (fc2): Linear(in_features=4096, out_features=1024, bias=True)\n",
              "            (final_layer_norm): LayerNorm((1024,), eps=1e-05, elementwise_affine=True)\n",
              "          )\n",
              "          (13): TransformerSentenceEncoderLayer(\n",
              "            (self_attn): MultiheadAttention(\n",
              "              (out_proj): Linear(in_features=1024, out_features=1024, bias=True)\n",
              "            )\n",
              "            (self_attn_layer_norm): LayerNorm((1024,), eps=1e-05, elementwise_affine=True)\n",
              "            (fc1): Linear(in_features=1024, out_features=4096, bias=True)\n",
              "            (fc2): Linear(in_features=4096, out_features=1024, bias=True)\n",
              "            (final_layer_norm): LayerNorm((1024,), eps=1e-05, elementwise_affine=True)\n",
              "          )\n",
              "          (14): TransformerSentenceEncoderLayer(\n",
              "            (self_attn): MultiheadAttention(\n",
              "              (out_proj): Linear(in_features=1024, out_features=1024, bias=True)\n",
              "            )\n",
              "            (self_attn_layer_norm): LayerNorm((1024,), eps=1e-05, elementwise_affine=True)\n",
              "            (fc1): Linear(in_features=1024, out_features=4096, bias=True)\n",
              "            (fc2): Linear(in_features=4096, out_features=1024, bias=True)\n",
              "            (final_layer_norm): LayerNorm((1024,), eps=1e-05, elementwise_affine=True)\n",
              "          )\n",
              "          (15): TransformerSentenceEncoderLayer(\n",
              "            (self_attn): MultiheadAttention(\n",
              "              (out_proj): Linear(in_features=1024, out_features=1024, bias=True)\n",
              "            )\n",
              "            (self_attn_layer_norm): LayerNorm((1024,), eps=1e-05, elementwise_affine=True)\n",
              "            (fc1): Linear(in_features=1024, out_features=4096, bias=True)\n",
              "            (fc2): Linear(in_features=4096, out_features=1024, bias=True)\n",
              "            (final_layer_norm): LayerNorm((1024,), eps=1e-05, elementwise_affine=True)\n",
              "          )\n",
              "          (16): TransformerSentenceEncoderLayer(\n",
              "            (self_attn): MultiheadAttention(\n",
              "              (out_proj): Linear(in_features=1024, out_features=1024, bias=True)\n",
              "            )\n",
              "            (self_attn_layer_norm): LayerNorm((1024,), eps=1e-05, elementwise_affine=True)\n",
              "            (fc1): Linear(in_features=1024, out_features=4096, bias=True)\n",
              "            (fc2): Linear(in_features=4096, out_features=1024, bias=True)\n",
              "            (final_layer_norm): LayerNorm((1024,), eps=1e-05, elementwise_affine=True)\n",
              "          )\n",
              "          (17): TransformerSentenceEncoderLayer(\n",
              "            (self_attn): MultiheadAttention(\n",
              "              (out_proj): Linear(in_features=1024, out_features=1024, bias=True)\n",
              "            )\n",
              "            (self_attn_layer_norm): LayerNorm((1024,), eps=1e-05, elementwise_affine=True)\n",
              "            (fc1): Linear(in_features=1024, out_features=4096, bias=True)\n",
              "            (fc2): Linear(in_features=4096, out_features=1024, bias=True)\n",
              "            (final_layer_norm): LayerNorm((1024,), eps=1e-05, elementwise_affine=True)\n",
              "          )\n",
              "          (18): TransformerSentenceEncoderLayer(\n",
              "            (self_attn): MultiheadAttention(\n",
              "              (out_proj): Linear(in_features=1024, out_features=1024, bias=True)\n",
              "            )\n",
              "            (self_attn_layer_norm): LayerNorm((1024,), eps=1e-05, elementwise_affine=True)\n",
              "            (fc1): Linear(in_features=1024, out_features=4096, bias=True)\n",
              "            (fc2): Linear(in_features=4096, out_features=1024, bias=True)\n",
              "            (final_layer_norm): LayerNorm((1024,), eps=1e-05, elementwise_affine=True)\n",
              "          )\n",
              "          (19): TransformerSentenceEncoderLayer(\n",
              "            (self_attn): MultiheadAttention(\n",
              "              (out_proj): Linear(in_features=1024, out_features=1024, bias=True)\n",
              "            )\n",
              "            (self_attn_layer_norm): LayerNorm((1024,), eps=1e-05, elementwise_affine=True)\n",
              "            (fc1): Linear(in_features=1024, out_features=4096, bias=True)\n",
              "            (fc2): Linear(in_features=4096, out_features=1024, bias=True)\n",
              "            (final_layer_norm): LayerNorm((1024,), eps=1e-05, elementwise_affine=True)\n",
              "          )\n",
              "          (20): TransformerSentenceEncoderLayer(\n",
              "            (self_attn): MultiheadAttention(\n",
              "              (out_proj): Linear(in_features=1024, out_features=1024, bias=True)\n",
              "            )\n",
              "            (self_attn_layer_norm): LayerNorm((1024,), eps=1e-05, elementwise_affine=True)\n",
              "            (fc1): Linear(in_features=1024, out_features=4096, bias=True)\n",
              "            (fc2): Linear(in_features=4096, out_features=1024, bias=True)\n",
              "            (final_layer_norm): LayerNorm((1024,), eps=1e-05, elementwise_affine=True)\n",
              "          )\n",
              "          (21): TransformerSentenceEncoderLayer(\n",
              "            (self_attn): MultiheadAttention(\n",
              "              (out_proj): Linear(in_features=1024, out_features=1024, bias=True)\n",
              "            )\n",
              "            (self_attn_layer_norm): LayerNorm((1024,), eps=1e-05, elementwise_affine=True)\n",
              "            (fc1): Linear(in_features=1024, out_features=4096, bias=True)\n",
              "            (fc2): Linear(in_features=4096, out_features=1024, bias=True)\n",
              "            (final_layer_norm): LayerNorm((1024,), eps=1e-05, elementwise_affine=True)\n",
              "          )\n",
              "          (22): TransformerSentenceEncoderLayer(\n",
              "            (self_attn): MultiheadAttention(\n",
              "              (out_proj): Linear(in_features=1024, out_features=1024, bias=True)\n",
              "            )\n",
              "            (self_attn_layer_norm): LayerNorm((1024,), eps=1e-05, elementwise_affine=True)\n",
              "            (fc1): Linear(in_features=1024, out_features=4096, bias=True)\n",
              "            (fc2): Linear(in_features=4096, out_features=1024, bias=True)\n",
              "            (final_layer_norm): LayerNorm((1024,), eps=1e-05, elementwise_affine=True)\n",
              "          )\n",
              "          (23): TransformerSentenceEncoderLayer(\n",
              "            (self_attn): MultiheadAttention(\n",
              "              (out_proj): Linear(in_features=1024, out_features=1024, bias=True)\n",
              "            )\n",
              "            (self_attn_layer_norm): LayerNorm((1024,), eps=1e-05, elementwise_affine=True)\n",
              "            (fc1): Linear(in_features=1024, out_features=4096, bias=True)\n",
              "            (fc2): Linear(in_features=4096, out_features=1024, bias=True)\n",
              "            (final_layer_norm): LayerNorm((1024,), eps=1e-05, elementwise_affine=True)\n",
              "          )\n",
              "        )\n",
              "        (emb_layer_norm): LayerNorm((1024,), eps=1e-05, elementwise_affine=True)\n",
              "      )\n",
              "      (lm_head): RobertaLMHead(\n",
              "        (dense): Linear(in_features=1024, out_features=1024, bias=True)\n",
              "        (layer_norm): LayerNorm((1024,), eps=1e-05, elementwise_affine=True)\n",
              "      )\n",
              "    )\n",
              "    (classification_heads): ModuleDict(\n",
              "      (mnli): RobertaClassificationHead(\n",
              "        (dense): Linear(in_features=1024, out_features=1024, bias=True)\n",
              "        (dropout): Dropout(p=0.3, inplace=False)\n",
              "        (out_proj): Linear(in_features=1024, out_features=3, bias=True)\n",
              "      )\n",
              "    )\n",
              "  )\n",
              ")"
            ]
          },
          "metadata": {
            "tags": []
          },
          "execution_count": 6
        }
      ]
    },
    {
      "cell_type": "markdown",
      "metadata": {
        "id": "zv_uLEDtkjV1",
        "colab_type": "text"
      },
      "source": [
        "### Legend for Sentence Prediction\n",
        "__0__ :- contradiction means false\n",
        "\n",
        "__1__ :- neutral\n",
        "\n",
        "__2__ :- entailment means true or confirmed"
      ]
    },
    {
      "cell_type": "code",
      "metadata": {
        "id": "56_sXriIjJ_q",
        "colab_type": "code",
        "outputId": "fa9eb197-51d6-4636-f6e7-610dc5fd474c",
        "colab": {
          "base_uri": "https://localhost:8080/",
          "height": 34
        }
      },
      "source": [
        "# Encode a pair of sentences and make a prediction\n",
        "tokens = roberta.encode('Roberta is a heavily optimized version of BERT.', 'Roberta is not very optimized.')\n",
        "roberta.predict('mnli', tokens).argmax()  # 0: contradiction"
      ],
      "execution_count": 7,
      "outputs": [
        {
          "output_type": "execute_result",
          "data": {
            "text/plain": [
              "tensor(0)"
            ]
          },
          "metadata": {
            "tags": []
          },
          "execution_count": 7
        }
      ]
    },
    {
      "cell_type": "code",
      "metadata": {
        "id": "xARBM6nLjfik",
        "colab_type": "code",
        "outputId": "ffa21dfe-c542-446f-ec09-2179f9ec1009",
        "colab": {
          "base_uri": "https://localhost:8080/",
          "height": 34
        }
      },
      "source": [
        "# Encode another pair of sentences\n",
        "tokens = roberta.encode('Roberta is a heavily optimized version of BERT.', 'Roberta is based on BERT.')\n",
        "roberta.predict('mnli', tokens).argmax()  # 2: entailment"
      ],
      "execution_count": 8,
      "outputs": [
        {
          "output_type": "execute_result",
          "data": {
            "text/plain": [
              "tensor(2)"
            ]
          },
          "metadata": {
            "tags": []
          },
          "execution_count": 8
        }
      ]
    },
    {
      "cell_type": "code",
      "metadata": {
        "id": "DRrJfHmMjkrp",
        "colab_type": "code",
        "outputId": "df4f49f9-81c4-41b7-906c-1c0414f68afb",
        "colab": {
          "base_uri": "https://localhost:8080/",
          "height": 34
        }
      },
      "source": [
        "# encode a custom sentence made up by Finian\n",
        "tokens_fin = roberta.encode('Mathematicians seek and use patterns to formulate new conjectures.', 'Patterns are always used by mathematicians.')\n",
        "roberta.predict('mnli', tokens_fin).argmax()  # 1: neutral"
      ],
      "execution_count": 9,
      "outputs": [
        {
          "output_type": "execute_result",
          "data": {
            "text/plain": [
              "tensor(1)"
            ]
          },
          "metadata": {
            "tags": []
          },
          "execution_count": 9
        }
      ]
    },
    {
      "cell_type": "code",
      "metadata": {
        "id": "MaAtjlFTlxDc",
        "colab_type": "code",
        "outputId": "72357180-466e-4d3c-f851-00f6a9025257",
        "colab": {
          "base_uri": "https://localhost:8080/",
          "height": 34
        }
      },
      "source": [
        "# encode a custom sentence made up by Finian\n",
        "tokens_giants = roberta.encode('The San Francisco Giants play baseball at Oracle Park in downtown San Francisco.', 'The Giants play in New York.')\n",
        "roberta.predict('mnli', tokens_giants).argmax()  # 0: contradiction"
      ],
      "execution_count": 10,
      "outputs": [
        {
          "output_type": "execute_result",
          "data": {
            "text/plain": [
              "tensor(0)"
            ]
          },
          "metadata": {
            "tags": []
          },
          "execution_count": 10
        }
      ]
    },
    {
      "cell_type": "markdown",
      "metadata": {
        "id": "kLsxh4GFAr6-",
        "colab_type": "text"
      },
      "source": [
        "### Scrape Sample Article to Feed into RoBERTa"
      ]
    },
    {
      "cell_type": "code",
      "metadata": {
        "id": "iJ-6zFhNAwEX",
        "colab_type": "code",
        "colab": {
          "base_uri": "https://localhost:8080/",
          "height": 1000
        },
        "outputId": "57f7737c-dd20-478f-ce13-63a1bccd350f"
      },
      "source": [
        "# determine the path to the Google Chrome driver and store it in a variable\n",
        "!apt-get update # to update ubuntu to correctly run apt install\n",
        "!apt install chromium-chromedriver\n",
        "!cp /usr/lib/chromium-browser/chromedriver /usr/bin\n",
        "import sys\n",
        "sys.path.insert(0,'/usr/lib/chromium-browser/chromedriver')\n",
        "chrome_driver_path = !which chromedriver"
      ],
      "execution_count": 14,
      "outputs": [
        {
          "output_type": "stream",
          "text": [
            "Ign:1 https://developer.download.nvidia.com/compute/cuda/repos/ubuntu1804/x86_64  InRelease\n",
            "Get:2 http://security.ubuntu.com/ubuntu bionic-security InRelease [88.7 kB]\n",
            "Get:3 http://ppa.launchpad.net/graphics-drivers/ppa/ubuntu bionic InRelease [21.3 kB]\n",
            "Ign:4 https://developer.download.nvidia.com/compute/machine-learning/repos/ubuntu1804/x86_64  InRelease\n",
            "Get:5 https://developer.download.nvidia.com/compute/cuda/repos/ubuntu1804/x86_64  Release [564 B]\n",
            "Get:6 https://developer.download.nvidia.com/compute/machine-learning/repos/ubuntu1804/x86_64  Release [564 B]\n",
            "Get:7 https://developer.download.nvidia.com/compute/cuda/repos/ubuntu1804/x86_64  Release.gpg [819 B]\n",
            "Get:8 https://developer.download.nvidia.com/compute/machine-learning/repos/ubuntu1804/x86_64  Release.gpg [833 B]\n",
            "Hit:9 http://archive.ubuntu.com/ubuntu bionic InRelease\n",
            "Get:10 http://archive.ubuntu.com/ubuntu bionic-updates InRelease [88.7 kB]\n",
            "Get:11 http://ppa.launchpad.net/marutter/c2d4u3.5/ubuntu bionic InRelease [15.4 kB]\n",
            "Get:12 https://developer.download.nvidia.com/compute/cuda/repos/ubuntu1804/x86_64  Packages [119 kB]\n",
            "Get:13 https://developer.download.nvidia.com/compute/machine-learning/repos/ubuntu1804/x86_64  Packages [20.6 kB]\n",
            "Get:14 http://archive.ubuntu.com/ubuntu bionic-backports InRelease [74.6 kB]\n",
            "Get:15 http://ppa.launchpad.net/graphics-drivers/ppa/ubuntu bionic/main amd64 Packages [34.2 kB]\n",
            "Get:16 http://security.ubuntu.com/ubuntu bionic-security/main amd64 Packages [682 kB]\n",
            "Get:17 https://cloud.r-project.org/bin/linux/ubuntu bionic-cran35/ InRelease [3,626 B]\n",
            "Get:18 http://ppa.launchpad.net/marutter/c2d4u3.5/ubuntu bionic/main Sources [1,718 kB]\n",
            "Get:19 http://archive.ubuntu.com/ubuntu bionic-updates/main amd64 Packages [977 kB]\n",
            "Get:20 https://cloud.r-project.org/bin/linux/ubuntu bionic-cran35/ Packages [72.6 kB]\n",
            "Get:21 http://security.ubuntu.com/ubuntu bionic-security/restricted amd64 Packages [11.3 kB]\n",
            "Get:22 http://security.ubuntu.com/ubuntu bionic-security/multiverse amd64 Packages [5,665 B]\n",
            "Get:23 http://ppa.launchpad.net/marutter/c2d4u3.5/ubuntu bionic/main amd64 Packages [827 kB]\n",
            "Get:24 http://security.ubuntu.com/ubuntu bionic-security/universe amd64 Packages [777 kB]\n",
            "Get:25 http://archive.ubuntu.com/ubuntu bionic-updates/restricted amd64 Packages [21.9 kB]\n",
            "Get:26 http://archive.ubuntu.com/ubuntu bionic-updates/universe amd64 Packages [1,295 kB]\n",
            "Get:27 http://archive.ubuntu.com/ubuntu bionic-updates/multiverse amd64 Packages [8,734 B]\n",
            "Get:28 http://archive.ubuntu.com/ubuntu bionic-backports/universe amd64 Packages [4,227 B]\n",
            "Fetched 6,869 kB in 4s (1,660 kB/s)\n",
            "Reading package lists... Done\n",
            "Reading package lists... Done\n",
            "Building dependency tree       \n",
            "Reading state information... Done\n",
            "The following additional packages will be installed:\n",
            "  chromium-browser chromium-browser-l10n chromium-codecs-ffmpeg-extra\n",
            "Suggested packages:\n",
            "  webaccounts-chromium-extension unity-chromium-extension adobe-flashplugin\n",
            "The following NEW packages will be installed:\n",
            "  chromium-browser chromium-browser-l10n chromium-chromedriver\n",
            "  chromium-codecs-ffmpeg-extra\n",
            "0 upgraded, 4 newly installed, 0 to remove and 155 not upgraded.\n",
            "Need to get 70.8 MB of archives.\n",
            "After this operation, 254 MB of additional disk space will be used.\n",
            "Get:1 http://archive.ubuntu.com/ubuntu bionic-updates/universe amd64 chromium-codecs-ffmpeg-extra amd64 77.0.3865.90-0ubuntu0.18.04.1 [1,079 kB]\n",
            "Get:2 http://archive.ubuntu.com/ubuntu bionic-updates/universe amd64 chromium-browser amd64 77.0.3865.90-0ubuntu0.18.04.1 [62.3 MB]\n",
            "Get:3 http://archive.ubuntu.com/ubuntu bionic-updates/universe amd64 chromium-browser-l10n all 77.0.3865.90-0ubuntu0.18.04.1 [3,011 kB]\n",
            "Get:4 http://archive.ubuntu.com/ubuntu bionic-updates/universe amd64 chromium-chromedriver amd64 77.0.3865.90-0ubuntu0.18.04.1 [4,388 kB]\n",
            "Fetched 70.8 MB in 6s (12.0 MB/s)\n",
            "Selecting previously unselected package chromium-codecs-ffmpeg-extra.\n",
            "(Reading database ... 131183 files and directories currently installed.)\n",
            "Preparing to unpack .../chromium-codecs-ffmpeg-extra_77.0.3865.90-0ubuntu0.18.04.1_amd64.deb ...\n",
            "Unpacking chromium-codecs-ffmpeg-extra (77.0.3865.90-0ubuntu0.18.04.1) ...\n",
            "Selecting previously unselected package chromium-browser.\n",
            "Preparing to unpack .../chromium-browser_77.0.3865.90-0ubuntu0.18.04.1_amd64.deb ...\n",
            "Unpacking chromium-browser (77.0.3865.90-0ubuntu0.18.04.1) ...\n",
            "Selecting previously unselected package chromium-browser-l10n.\n",
            "Preparing to unpack .../chromium-browser-l10n_77.0.3865.90-0ubuntu0.18.04.1_all.deb ...\n",
            "Unpacking chromium-browser-l10n (77.0.3865.90-0ubuntu0.18.04.1) ...\n",
            "Selecting previously unselected package chromium-chromedriver.\n",
            "Preparing to unpack .../chromium-chromedriver_77.0.3865.90-0ubuntu0.18.04.1_amd64.deb ...\n",
            "Unpacking chromium-chromedriver (77.0.3865.90-0ubuntu0.18.04.1) ...\n",
            "Processing triggers for mime-support (3.60ubuntu1) ...\n",
            "Setting up chromium-codecs-ffmpeg-extra (77.0.3865.90-0ubuntu0.18.04.1) ...\n",
            "Processing triggers for man-db (2.8.3-2ubuntu0.1) ...\n",
            "Processing triggers for hicolor-icon-theme (0.17-2) ...\n",
            "Setting up chromium-browser (77.0.3865.90-0ubuntu0.18.04.1) ...\n",
            "update-alternatives: using /usr/bin/chromium-browser to provide /usr/bin/x-www-browser (x-www-browser) in auto mode\n",
            "update-alternatives: using /usr/bin/chromium-browser to provide /usr/bin/gnome-www-browser (gnome-www-browser) in auto mode\n",
            "Setting up chromium-chromedriver (77.0.3865.90-0ubuntu0.18.04.1) ...\n",
            "Setting up chromium-browser-l10n (77.0.3865.90-0ubuntu0.18.04.1) ...\n",
            "cp: '/usr/lib/chromium-browser/chromedriver' and '/usr/bin/chromedriver' are the same file\n"
          ],
          "name": "stdout"
        }
      ]
    },
    {
      "cell_type": "code",
      "metadata": {
        "id": "_ELa9yBoiLGk",
        "colab_type": "code",
        "colab": {}
      },
      "source": [
        "\n",
        "# set chrome driver options to stop from crashing\n",
        "from selenium import webdriver\n",
        "chrome_options = webdriver.ChromeOptions()\n",
        "chrome_options.add_argument('--headless')\n",
        "chrome_options.add_argument('--no-sandbox')\n",
        "chrome_options.add_argument('--disable-dev-shm-usage')"
      ],
      "execution_count": 0,
      "outputs": []
    },
    {
      "cell_type": "code",
      "metadata": {
        "id": "m_fiKPbMCN1W",
        "colab_type": "code",
        "colab": {}
      },
      "source": [
        "# Set the executable path and initialize the chrome browser in splinter\n",
        "executable_path = {'executable_path': chrome_driver_path[0]}\n",
        "chrome_browser = Browser('chrome', **executable_path, options=chrome_options)"
      ],
      "execution_count": 0,
      "outputs": []
    },
    {
      "cell_type": "code",
      "metadata": {
        "id": "gt-FztNUCPnY",
        "colab_type": "code",
        "colab": {}
      },
      "source": [
        "# Assign URL variables to visit Physics Wikipedia\n",
        "physics_url = 'https://en.wikipedia.org/wiki/Physics'\n",
        "# have Chrome navigate to that URL\n",
        "chrome_browser.visit(physics_url)"
      ],
      "execution_count": 0,
      "outputs": []
    },
    {
      "cell_type": "code",
      "metadata": {
        "id": "NCnICrulD59U",
        "colab_type": "code",
        "colab": {}
      },
      "source": [
        "# Convert the browser html from the Physics Wikipedia website from the link above to a Beautiful Soup object\n",
        "physics_html = chrome_browser.html\n",
        "physics_beautiful_soup = BeautifulSoup(physics_html, 'html.parser')"
      ],
      "execution_count": 0,
      "outputs": []
    },
    {
      "cell_type": "code",
      "metadata": {
        "id": "M0Z7ao23jTxe",
        "colab_type": "code",
        "colab": {
          "base_uri": "https://localhost:8080/",
          "height": 1000
        },
        "outputId": "0e295b23-6fd9-4676-ff16-3b13ca81a595"
      },
      "source": [
        "# display all paragraph tags\n",
        "counter = 1\n",
        "for entry in physics_beautiful_soup.find_all('p'):\n",
        "  print(\"{0}: {1}\".format(counter,entry))\n",
        "  counter += 1"
      ],
      "execution_count": 31,
      "outputs": [
        {
          "output_type": "stream",
          "text": [
            "1: <p class=\"mw-empty-elt\">\n",
            "</p>\n",
            "2: <p><b>Physics</b> (from <a class=\"mw-redirect\" href=\"/wiki/Ancient_Greek_language\" title=\"Ancient Greek language\">Ancient Greek</a>: <span lang=\"grc\">φυσική (ἐπιστήμη)</span>, <small><a class=\"mw-redirect\" href=\"/wiki/Romanization_of_Ancient_Greek\" title=\"Romanization of Ancient Greek\">romanized</a>: </small><i lang=\"grc-Latn\" title=\"Ancient Greek-language romanization\">physikḗ (epistḗmē)</i>, <small><a href=\"/wiki/Literal_translation\" title=\"Literal translation\">lit.</a> </small>'knowledge of nature', from <span lang=\"grc\" title=\"Ancient Greek language text\">φύσις</span> <i>phýsis</i> 'nature')<sup class=\"reference\" id=\"cite_ref-etymonline-physics_1-0\"><a href=\"#cite_note-etymonline-physics-1\">[1]</a></sup><sup class=\"reference\" id=\"cite_ref-etymonline-physic_2-0\"><a href=\"#cite_note-etymonline-physic-2\">[2]</a></sup><sup class=\"reference\" id=\"cite_ref-LSJ_3-0\"><a href=\"#cite_note-LSJ-3\">[3]</a></sup> is the <a href=\"/wiki/Natural_science\" title=\"Natural science\">natural science</a> that studies <a href=\"/wiki/Matter\" title=\"Matter\">matter</a>,<sup class=\"reference\" id=\"cite_ref-feynmanleightonsands1963-atomic_4-0\"><a href=\"#cite_note-feynmanleightonsands1963-atomic-4\">[4]</a></sup> its <a class=\"mw-redirect\" href=\"/wiki/Motion_(physics)\" title=\"Motion (physics)\">motion</a> and behavior through <a href=\"/wiki/Spacetime\" title=\"Spacetime\">space and time</a>, and that studies the related entities of <a href=\"/wiki/Energy\" title=\"Energy\">energy</a> and <a href=\"/wiki/Force\" title=\"Force\">force</a>.<sup class=\"reference\" id=\"cite_ref-maxwell1878-physicalscience_5-0\"><a href=\"#cite_note-maxwell1878-physicalscience-5\">[5]</a></sup> Physics is one of the most fundamental scientific disciplines, and its main goal is to understand how the <a href=\"/wiki/Universe\" title=\"Universe\">universe</a> behaves.<sup class=\"reference\" id=\"cite_ref-6\"><a href=\"#cite_note-6\">[a]</a></sup><sup class=\"reference\" id=\"cite_ref-youngfreedman2014p1_7-0\"><a href=\"#cite_note-youngfreedman2014p1-7\">[6]</a></sup><sup class=\"reference\" id=\"cite_ref-youngfreedman2014p2_8-0\"><a href=\"#cite_note-youngfreedman2014p2-8\">[7]</a></sup><sup class=\"reference\" id=\"cite_ref-holzner2003-physics_9-0\"><a href=\"#cite_note-holzner2003-physics-9\">[8]</a></sup>\n",
            "</p>\n",
            "3: <p>Physics is one of the oldest <a class=\"mw-redirect\" href=\"/wiki/Academic_discipline\" title=\"Academic discipline\">academic disciplines</a> and, through its inclusion of <a href=\"/wiki/Astronomy\" title=\"Astronomy\">astronomy</a>, perhaps <i>the</i> oldest.<sup class=\"reference\" id=\"cite_ref-krupp2003_10-0\"><a href=\"#cite_note-krupp2003-10\">[9]</a></sup> Over much of the past two millennia, physics, <a href=\"/wiki/Chemistry\" title=\"Chemistry\">chemistry</a>, <a href=\"/wiki/Biology\" title=\"Biology\">biology</a>, and certain branches of <a href=\"/wiki/Mathematics\" title=\"Mathematics\">mathematics</a>, were a part of <a href=\"/wiki/Natural_philosophy\" title=\"Natural philosophy\">natural philosophy</a>, but during the <a href=\"/wiki/Scientific_Revolution\" title=\"Scientific Revolution\">Scientific Revolution</a> in the 17th century these natural sciences emerged as unique research endeavors in their own right.<sup class=\"reference\" id=\"cite_ref-12\"><a href=\"#cite_note-12\">[b]</a></sup> Physics intersects with many <a href=\"/wiki/Interdisciplinarity\" title=\"Interdisciplinarity\">interdisciplinary</a> areas of research, such as <a href=\"/wiki/Biophysics\" title=\"Biophysics\">biophysics</a> and <a href=\"/wiki/Quantum_chemistry\" title=\"Quantum chemistry\">quantum chemistry</a>, and the boundaries of physics are not <a href=\"/wiki/Demarcation_problem\" title=\"Demarcation problem\">rigidly defined</a>. New ideas in physics often explain the fundamental mechanisms studied by other sciences<sup class=\"reference\" id=\"cite_ref-youngfreedman2014p1_7-1\"><a href=\"#cite_note-youngfreedman2014p1-7\">[6]</a></sup> and suggest new avenues of research in academic disciplines such as mathematics and <a href=\"/wiki/Philosophy\" title=\"Philosophy\">philosophy</a>.\n",
            "</p>\n",
            "4: <p>Advances in physics often enable advances in new <a href=\"/wiki/Technology\" title=\"Technology\">technologies</a>. For example, advances in the understanding of <a href=\"/wiki/Electromagnetism\" title=\"Electromagnetism\">electromagnetism</a>, <a href=\"/wiki/Solid-state_physics\" title=\"Solid-state physics\">solid-state physics</a>, and <a href=\"/wiki/Nuclear_physics\" title=\"Nuclear physics\">nuclear physics</a> led directly to the development of new products that have dramatically transformed modern-day society, such as <a href=\"/wiki/Television\" title=\"Television\">television</a>, <a href=\"/wiki/Computer\" title=\"Computer\">computers</a>, <a class=\"mw-redirect\" href=\"/wiki/Domestic_appliance\" title=\"Domestic appliance\">domestic appliances</a>, and <a href=\"/wiki/Nuclear_weapon\" title=\"Nuclear weapon\">nuclear weapons</a>;<sup class=\"reference\" id=\"cite_ref-youngfreedman2014p1_7-2\"><a href=\"#cite_note-youngfreedman2014p1-7\">[6]</a></sup> advances in <a href=\"/wiki/Thermodynamics\" title=\"Thermodynamics\">thermodynamics</a> led to the development of <a class=\"mw-redirect\" href=\"/wiki/Industrialization\" title=\"Industrialization\">industrialization</a>; and advances in <a href=\"/wiki/Mechanics\" title=\"Mechanics\">mechanics</a> inspired the development of <a href=\"/wiki/Calculus\" title=\"Calculus\">calculus</a>.\n",
            "</p>\n",
            "5: <p><a href=\"/wiki/Astronomy\" title=\"Astronomy\">Astronomy</a> is one of the oldest <a href=\"/wiki/Natural_science\" title=\"Natural science\">natural sciences</a>. Early civilizations dating back before 3000 BCE, such as the <a href=\"/wiki/Sumer\" title=\"Sumer\">Sumerians</a>, <a href=\"/wiki/Ancient_Egypt\" title=\"Ancient Egypt\">ancient Egyptians</a>, and the <a href=\"/wiki/Indus_Valley_Civilisation\" title=\"Indus Valley Civilisation\">Indus Valley Civilisation</a>, had a predictive knowledge and a basic understanding of the motions of the Sun, Moon, and stars. The stars and planets were often worshipped, believed to represent gods. While the explanations for the observed positions of the stars were often unscientific and lacking in evidence, these early observations laid the foundation for later astronomy, as the stars were found to traverse <a href=\"/wiki/Great_circle\" title=\"Great circle\">great circles</a> across the sky,<sup class=\"reference\" id=\"cite_ref-krupp2003_10-1\"><a href=\"#cite_note-krupp2003-10\">[9]</a></sup> which however did not explain the positions of the <a href=\"/wiki/Planet\" title=\"Planet\">planets</a>.\n",
            "</p>\n",
            "6: <p>According to <a href=\"/wiki/Asger_Aaboe\" title=\"Asger Aaboe\">Asger Aaboe</a>, the origins of <a href=\"/wiki/Western_world\" title=\"Western world\">Western</a> astronomy can be found in <a href=\"/wiki/Mesopotamia\" title=\"Mesopotamia\">Mesopotamia</a>, and all Western efforts in the <a class=\"mw-redirect\" href=\"/wiki/Exact_science\" title=\"Exact science\">exact sciences</a> are descended from late <a href=\"/wiki/Babylonian_astronomy\" title=\"Babylonian astronomy\">Babylonian astronomy</a>.<sup class=\"reference\" id=\"cite_ref-aaboe1991_13-0\"><a href=\"#cite_note-aaboe1991-13\">[11]</a></sup> <a href=\"/wiki/Egyptian_astronomy\" title=\"Egyptian astronomy\">Egyptian astronomers</a> left monuments showing knowledge of the constellations and the motions of the celestial bodies,<sup class=\"reference\" id=\"cite_ref-clagett1995_14-0\"><a href=\"#cite_note-clagett1995-14\">[12]</a></sup> while Greek poet <a href=\"/wiki/Homer\" title=\"Homer\">Homer</a> wrote of various celestial objects in his <i><a href=\"/wiki/Iliad\" title=\"Iliad\">Iliad</a></i> and <i><a href=\"/wiki/Odyssey\" title=\"Odyssey\">Odyssey</a></i>; later <a class=\"mw-redirect\" href=\"/wiki/Greek_astronomy\" title=\"Greek astronomy\">Greek astronomers</a> provided names, which are still used today, for most constellations visible from the <a href=\"/wiki/Northern_Hemisphere\" title=\"Northern Hemisphere\">Northern Hemisphere</a>.<sup class=\"reference\" id=\"cite_ref-thurston1994_15-0\"><a href=\"#cite_note-thurston1994-15\">[13]</a></sup>\n",
            "</p>\n",
            "7: <p><a href=\"/wiki/Natural_philosophy\" title=\"Natural philosophy\">Natural philosophy</a> has its origins in <a href=\"/wiki/Greece\" title=\"Greece\">Greece</a> during the <a href=\"/wiki/Archaic_Greece\" title=\"Archaic Greece\">Archaic period</a> (650 BCE – 480 BCE), when <a class=\"mw-redirect\" href=\"/wiki/Presocratics\" title=\"Presocratics\">pre-Socratic philosophers</a> like <a class=\"mw-redirect\" href=\"/wiki/Thales\" title=\"Thales\">Thales</a> rejected <a class=\"mw-redirect\" href=\"/wiki/Methodological_naturalism\" title=\"Methodological naturalism\">non-naturalistic</a> explanations for natural phenomena and proclaimed that every event had a natural cause.<sup class=\"reference\" id=\"cite_ref-singer2008p35_16-0\"><a href=\"#cite_note-singer2008p35-16\">[14]</a></sup> They proposed ideas verified by reason and observation, and many of their hypotheses proved successful in experiment;<sup class=\"reference\" id=\"cite_ref-lloyd1970pp108-109_17-0\"><a href=\"#cite_note-lloyd1970pp108-109-17\">[15]</a></sup> for example, <a href=\"/wiki/Atomism\" title=\"Atomism\">atomism</a> was found to be correct approximately 2000 years after it was proposed by <a href=\"/wiki/Leucippus\" title=\"Leucippus\">Leucippus</a> and his pupil <a href=\"/wiki/Democritus\" title=\"Democritus\">Democritus</a>.<sup class=\"reference\" id=\"cite_ref-about-atomism_18-0\"><a href=\"#cite_note-about-atomism-18\">[16]</a></sup>\n",
            "</p>\n",
            "8: <p>The <a href=\"/wiki/Western_Roman_Empire\" title=\"Western Roman Empire\">Western Roman Empire</a> fell in the fifth century, and this resulted in a decline in intellectual pursuits in the western part of Europe. By contrast, the <a class=\"mw-redirect\" href=\"/wiki/Eastern_Roman_Empire\" title=\"Eastern Roman Empire\">Eastern Roman Empire</a> (also known as the <a href=\"/wiki/Byzantine_Empire\" title=\"Byzantine Empire\">Byzantine Empire</a>) resisted the attacks from the barbarians, and continued to advance various fields of learning, including physics.<sup class=\"reference\" id=\"cite_ref-19\"><a href=\"#cite_note-19\">[17]</a></sup>\n",
            "</p>\n",
            "9: <p>In the sixth century Isidore of Miletus created an important compilation of Archimedes' works that are copied in the <a href=\"/wiki/Archimedes_Palimpsest\" title=\"Archimedes Palimpsest\">Archimedes Palimpsest</a>.\n",
            "</p>\n",
            "10: <p>\n",
            "In sixth century Europe <a href=\"/wiki/John_Philoponus\" title=\"John Philoponus\">John Philoponus</a>, a Byzantine scholar, questioned <a href=\"/wiki/Aristotle\" title=\"Aristotle\">Aristotle</a>'s teaching of physics and noted its flaws. He introduced the <a href=\"/wiki/Theory_of_impetus\" title=\"Theory of impetus\">theory of impetus</a>. Aristotle's physics was not scrutinized until Philoponus appeared; unlike Aristotle, who based his physics on verbal argument, Philoponus relied on observation. On Aristotle's physics Philoponus wrote:</p>\n",
            "11: <p>But this is completely erroneous, and our view may be corroborated by actual observation more effectively than by any sort of verbal argument. For if you let fall from the same height two weights of which one is many times as heavy as the other, you will see that the ratio of the times required for the motion does not depend on the ratio of the weights, but that the difference in time is a very small one. And so, if the difference in the weights is not considerable, that is, of one is, let us say, double the other, there will be no difference, or else an imperceptible difference, in time, though the difference in weight is by no means negligible, with one body weighing twice as much as the other<sup class=\"reference\" id=\"cite_ref-20\"><a href=\"#cite_note-20\">[18]</a></sup></p>\n",
            "12: <p>Philoponus' criticism of Aristotelian principles of physics served as an inspiration for <a href=\"/wiki/Galileo_Galilei\" title=\"Galileo Galilei\">Galileo Galilei</a> ten centuries later,<sup class=\"reference\" id=\"cite_ref-dialogTwoNewSciences_21-0\"><a href=\"#cite_note-dialogTwoNewSciences-21\">[19]</a></sup> during the <a href=\"/wiki/Scientific_Revolution\" title=\"Scientific Revolution\">Scientific Revolution</a>. Galileo cited Philoponus substantially in his works when arguing that Aristotelian physics was flawed.<sup class=\"reference\" id=\"cite_ref-22\"><a href=\"#cite_note-22\">[20]</a></sup><sup class=\"reference\" id=\"cite_ref-23\"><a href=\"#cite_note-23\">[21]</a></sup> In the 1300s <a href=\"/wiki/Jean_Buridan\" title=\"Jean Buridan\">Jean Buridan</a>, a teacher in the faculty of arts at the University of Paris, developed the concept of impetus. It was a step toward the modern ideas of inertia and momentum.<sup class=\"reference\" id=\"cite_ref-24\"><a href=\"#cite_note-24\">[22]</a></sup>\n",
            "</p>\n",
            "13: <p><a href=\"/wiki/Science_in_the_medieval_Islamic_world\" title=\"Science in the medieval Islamic world\">Islamic scholarship</a> inherited <a href=\"/wiki/Aristotelian_physics\" title=\"Aristotelian physics\">Aristotelian physics</a> from the Greeks and during the <a href=\"/wiki/Islamic_Golden_Age\" title=\"Islamic Golden Age\">Islamic Golden Age</a> developed it further, especially placing emphasis on observation and <i>a priori</i> reasoning, developing early forms of the <a href=\"/wiki/Scientific_method\" title=\"Scientific method\">scientific method</a>.\n",
            "</p>\n",
            "14: <p>The most notable innovations were in the field of optics and vision, which came from the works of many scientists like <a href=\"/wiki/Ibn_Sahl_(mathematician)\" title=\"Ibn Sahl (mathematician)\">Ibn Sahl</a>, <a href=\"/wiki/Al-Kindi\" title=\"Al-Kindi\">Al-Kindi</a>, <a href=\"/wiki/Ibn_al-Haytham\" title=\"Ibn al-Haytham\">Ibn al-Haytham</a>, <a href=\"/wiki/Kam%C4%81l_al-D%C4%ABn_al-F%C4%81ris%C4%AB\" title=\"Kamāl al-Dīn al-Fārisī\">Al-Farisi</a> and <a href=\"/wiki/Avicenna\" title=\"Avicenna\">Avicenna</a>. The most notable work was <i><a href=\"/wiki/Book_of_Optics\" title=\"Book of Optics\">The Book of Optics</a></i> (also known as Kitāb al-Manāẓir), written by Ibn al-Haytham, in which he conclusively disproved the ancient Greek idea about vision, but also came up with a new theory. In the book, he presented a study of the phenomenon of the <a href=\"/wiki/Camera_obscura\" title=\"Camera obscura\">camera obscura</a> (his thousand-year-old version of the <a href=\"/wiki/Pinhole_camera\" title=\"Pinhole camera\">pinhole camera</a>) and delved further into the way the eye itself works. Using dissections and the knowledge of previous scholars, he was able to begin to explain how light enters the eye. He asserted that the light ray is focused, but the actual explanation of how light projected to the back of the eye had to wait until 1604. His <i>Treatise on Light</i> explained the camera obscura, hundreds of years before the modern development of photography.<sup class=\"reference\" id=\"cite_ref-25\"><a href=\"#cite_note-25\">[23]</a></sup>\n",
            "</p>\n",
            "15: <p>The seven-volume <i>Book of Optics</i> (<i>Kitab al-Manathir</i>) hugely influenced thinking across disciplines from the theory of visual <a href=\"/wiki/Perception\" title=\"Perception\">perception</a> to the nature of <a href=\"/wiki/Perspectivity\" title=\"Perspectivity\">perspective</a> in medieval art, in both the East and the West, for more than 600 years. Many later European scholars and fellow polymaths, from <a href=\"/wiki/Robert_Grosseteste\" title=\"Robert Grosseteste\">Robert Grosseteste</a> and <a href=\"/wiki/Leonardo_da_Vinci\" title=\"Leonardo da Vinci\">Leonardo da Vinci</a> to <a href=\"/wiki/Ren%C3%A9_Descartes\" title=\"René Descartes\">René Descartes</a>, <a href=\"/wiki/Johannes_Kepler\" title=\"Johannes Kepler\">Johannes Kepler</a> and <a href=\"/wiki/Isaac_Newton\" title=\"Isaac Newton\">Isaac Newton</a>, were in his debt. Indeed, the influence of Ibn al-Haytham's Optics ranks alongside that of Newton's work of the same title, published 700 years later.\n",
            "</p>\n",
            "16: <p>The translation of <i>The Book of Optics</i> had a huge impact on Europe. From it, later European scholars were able to build devices that replicated those Ibn al-Haytham had built, and understand the way light works. From this, such important things as eyeglasses, magnifying glasses, telescopes, and cameras were developed.\n",
            "</p>\n",
            "17: <p>Physics became a separate science when <a href=\"/wiki/Early_modern_Europe\" title=\"Early modern Europe\">early modern Europeans</a> used experimental and quantitative methods to discover what are now considered to be the <a class=\"mw-redirect\" href=\"/wiki/Laws_of_physics\" title=\"Laws of physics\">laws of physics</a>.<sup class=\"reference\" id=\"cite_ref-benchaim2004_27-0\"><a href=\"#cite_note-benchaim2004-27\">[25]</a></sup><sup class=\"noprint Inline-Template\" style=\"white-space:nowrap;\">[<i><a href=\"/wiki/Wikipedia:Citing_sources\" title=\"Wikipedia:Citing sources\"><span title=\"This citation requires a reference to the specific page or range of pages in which the material appears. (November 2016)\">page needed</span></a></i>]</sup>\n",
            "</p>\n",
            "18: <p>Major developments in this period include the replacement of the <a href=\"/wiki/Geocentric_model\" title=\"Geocentric model\">geocentric model</a> of the <a href=\"/wiki/Solar_System\" title=\"Solar System\">Solar System</a> with the heliocentric <a class=\"mw-redirect\" href=\"/wiki/Copernican_model\" title=\"Copernican model\">Copernican model</a>, the <a class=\"mw-redirect\" href=\"/wiki/Kepler%27s_laws\" title=\"Kepler's laws\">laws governing the motion of planetary bodies</a> determined by <a href=\"/wiki/Johannes_Kepler\" title=\"Johannes Kepler\">Johannes Kepler</a> between 1609 and 1619, pioneering work on <a href=\"/wiki/Telescope\" title=\"Telescope\">telescopes</a> and <a href=\"/wiki/Observational_astronomy\" title=\"Observational astronomy\">observational astronomy</a> by <a href=\"/wiki/Galileo_Galilei\" title=\"Galileo Galilei\">Galileo Galilei</a> in the 16th and 17th Centuries, and <a href=\"/wiki/Isaac_Newton\" title=\"Isaac Newton\">Isaac Newton</a>'s discovery and unification of the <a href=\"/wiki/Newton%27s_laws_of_motion\" title=\"Newton's laws of motion\">laws of motion</a> and <a href=\"/wiki/Newton%27s_law_of_universal_gravitation\" title=\"Newton's law of universal gravitation\">universal gravitation</a> that would come to bear his name.<sup class=\"reference\" id=\"cite_ref-28\"><a href=\"#cite_note-28\">[26]</a></sup> Newton also developed <a href=\"/wiki/Calculus\" title=\"Calculus\">calculus</a>,<sup class=\"reference\" id=\"cite_ref-29\"><a href=\"#cite_note-29\">[c]</a></sup> the mathematical study of change, which provided new mathematical methods for solving physical problems.<sup class=\"reference\" id=\"cite_ref-allen1997_30-0\"><a href=\"#cite_note-allen1997-30\">[27]</a></sup>\n",
            "</p>\n",
            "19: <p>The discovery of new laws in <a href=\"/wiki/Thermodynamics\" title=\"Thermodynamics\">thermodynamics</a>, <a href=\"/wiki/Chemistry\" title=\"Chemistry\">chemistry</a>, and <a class=\"mw-redirect\" href=\"/wiki/Electromagnetics\" title=\"Electromagnetics\">electromagnetics</a> resulted from greater research efforts during the <a href=\"/wiki/Industrial_Revolution\" title=\"Industrial Revolution\">Industrial Revolution</a> as energy needs increased.<sup class=\"reference\" id=\"cite_ref-schoolscience-industrialrevolution_31-0\"><a href=\"#cite_note-schoolscience-industrialrevolution-31\">[28]</a></sup> The laws comprising classical physics remain very widely used for objects on everyday scales travelling at non-relativistic speeds, since they provide a very close approximation in such situations, and theories such as <a href=\"/wiki/Quantum_mechanics\" title=\"Quantum mechanics\">quantum mechanics</a> and the <a href=\"/wiki/Theory_of_relativity\" title=\"Theory of relativity\">theory of relativity</a> simplify to their classical equivalents at such scales. However, inaccuracies in classical mechanics for very small objects and very high velocities led to the development of modern physics in the 20th century.\n",
            "</p>\n",
            "20: <p><a href=\"/wiki/Modern_physics\" title=\"Modern physics\">Modern physics</a> began in the early 20th century with the work of <a href=\"/wiki/Max_Planck\" title=\"Max Planck\">Max Planck</a> in <a href=\"/wiki/Quantum_mechanics\" title=\"Quantum mechanics\">quantum theory</a> and <a href=\"/wiki/Albert_Einstein\" title=\"Albert Einstein\">Albert Einstein</a>'s <a href=\"/wiki/Theory_of_relativity\" title=\"Theory of relativity\">theory of relativity</a>. Both of these theories came about due to inaccuracies in classical mechanics in certain situations. <a href=\"/wiki/Classical_mechanics\" title=\"Classical mechanics\">Classical mechanics</a> predicted a varying <a href=\"/wiki/Speed_of_light\" title=\"Speed of light\">speed of light</a>, which could not be resolved with the constant speed predicted by <a href=\"/wiki/Maxwell%27s_equations\" title=\"Maxwell's equations\">Maxwell's equations</a> of electromagnetism; this discrepancy was corrected by Einstein's theory of <a href=\"/wiki/Special_relativity\" title=\"Special relativity\">special relativity</a>, which replaced classical mechanics for fast-moving bodies and allowed for a constant speed of light.<sup class=\"reference\" id=\"cite_ref-oconnorrobertson1996-relativity_32-0\"><a href=\"#cite_note-oconnorrobertson1996-relativity-32\">[29]</a></sup> <a href=\"/wiki/Black-body_radiation\" title=\"Black-body radiation\">Black-body radiation</a> provided another problem for classical physics, which was corrected when Planck proposed that the excitation of material oscillators is possible only in discrete steps proportional to their frequency; this, along with the <a href=\"/wiki/Photoelectric_effect\" title=\"Photoelectric effect\">photoelectric effect</a> and a complete theory predicting discrete <a class=\"mw-redirect\" href=\"/wiki/Energy_levels\" title=\"Energy levels\">energy levels</a> of <a href=\"/wiki/Atomic_orbital\" title=\"Atomic orbital\">electron orbitals</a>, led to the theory of quantum mechanics taking over from classical physics at very small scales.<sup class=\"reference\" id=\"cite_ref-oconnorrobertson1996-quantum_33-0\"><a href=\"#cite_note-oconnorrobertson1996-quantum-33\">[30]</a></sup>\n",
            "</p>\n",
            "21: <p><a href=\"/wiki/Quantum_mechanics\" title=\"Quantum mechanics\">Quantum mechanics</a> would come to be pioneered by <a href=\"/wiki/Werner_Heisenberg\" title=\"Werner Heisenberg\">Werner Heisenberg</a>, <a href=\"/wiki/Erwin_Schr%C3%B6dinger\" title=\"Erwin Schrödinger\">Erwin Schrödinger</a> and <a href=\"/wiki/Paul_Dirac\" title=\"Paul Dirac\">Paul Dirac</a>.<sup class=\"reference\" id=\"cite_ref-oconnorrobertson1996-quantum_33-1\"><a href=\"#cite_note-oconnorrobertson1996-quantum-33\">[30]</a></sup> From this early work, and work in related fields, the <a class=\"mw-redirect\" href=\"/wiki/Standard_Model_of_particle_physics\" title=\"Standard Model of particle physics\">Standard Model of particle physics</a> was derived.<sup class=\"reference\" id=\"cite_ref-donut2001_34-0\"><a href=\"#cite_note-donut2001-34\">[31]</a></sup> Following the discovery of a particle with properties consistent with the <a href=\"/wiki/Higgs_boson\" title=\"Higgs boson\">Higgs boson</a> at <a href=\"/wiki/CERN\" title=\"CERN\">CERN</a> in 2012,<sup class=\"reference\" id=\"cite_ref-cho2012_35-0\"><a href=\"#cite_note-cho2012-35\">[32]</a></sup> all <a class=\"mw-redirect\" href=\"/wiki/Fundamental_particles\" title=\"Fundamental particles\">fundamental particles</a> predicted by the standard model, and no others, appear to exist; however, <a href=\"/wiki/Physics_beyond_the_Standard_Model\" title=\"Physics beyond the Standard Model\">physics beyond the Standard Model</a>, with theories such as <a href=\"/wiki/Supersymmetry\" title=\"Supersymmetry\">supersymmetry</a>, is an active area of research.<sup class=\"reference\" id=\"cite_ref-36\"><a href=\"#cite_note-36\">[33]</a></sup> Areas of <a href=\"/wiki/Mathematics\" title=\"Mathematics\">mathematics</a> in general are important to this field, such as the study of <a href=\"/wiki/Probability_amplitude\" title=\"Probability amplitude\">probabilities</a> and <a href=\"/wiki/Group_theory#Physics\" title=\"Group theory\">groups</a>.\n",
            "</p>\n",
            "22: <p>In many ways, physics stems from <a href=\"/wiki/Ancient_Greek_philosophy\" title=\"Ancient Greek philosophy\">ancient Greek philosophy</a>. From <a class=\"mw-redirect\" href=\"/wiki/Thales\" title=\"Thales\">Thales</a>' first attempt to characterise matter, to <a href=\"/wiki/Democritus\" title=\"Democritus\">Democritus</a>' deduction that matter ought to reduce to an invariant state, the <a class=\"mw-redirect\" href=\"/wiki/Ptolemaic_astronomy\" title=\"Ptolemaic astronomy\">Ptolemaic astronomy</a> of a crystalline <a href=\"/wiki/Firmament\" title=\"Firmament\">firmament</a>, and Aristotle's book <i><a href=\"/wiki/Physics_(Aristotle)\" title=\"Physics (Aristotle)\">Physics</a></i> (an early book on physics, which attempted to analyze and define motion from a philosophical point of view), various Greek philosophers advanced their own theories of nature. Physics was known as <a href=\"/wiki/Natural_philosophy\" title=\"Natural philosophy\">natural philosophy</a> until the late 18th century.<sup class=\"reference\" id=\"cite_ref-37\"><a href=\"#cite_note-37\">[34]</a></sup>\n",
            "</p>\n",
            "23: <p>By the 19th century, physics was realised as a discipline distinct from philosophy and the other sciences. Physics, as with the rest of science, relies on <a href=\"/wiki/Philosophy_of_science\" title=\"Philosophy of science\">philosophy of science</a> and its \"scientific method\" to advance our knowledge of the physical world.<sup class=\"reference\" id=\"cite_ref-rosenberg2006ch1_38-0\"><a href=\"#cite_note-rosenberg2006ch1-38\">[35]</a></sup> The scientific method employs <i><a href=\"/wiki/A_priori_and_a_posteriori\" title=\"A priori and a posteriori\">a priori reasoning</a></i> as well as <i><a href=\"/wiki/Empirical_evidence\" title=\"Empirical evidence\">a posteriori</a></i> reasoning and the use of <a href=\"/wiki/Bayesian_inference\" title=\"Bayesian inference\">Bayesian inference</a> to measure the validity of a given theory.<sup class=\"reference\" id=\"cite_ref-godfreysmith2003ch14_39-0\"><a href=\"#cite_note-godfreysmith2003ch14-39\">[36]</a></sup>\n",
            "</p>\n",
            "24: <p>The development of physics has answered many questions of early philosophers, but has also raised new questions. Study of the philosophical issues surrounding physics, the philosophy of physics, involves issues such as the nature of <a href=\"/wiki/Space\" title=\"Space\">space</a> and <a href=\"/wiki/Time\" title=\"Time\">time</a>, <a href=\"/wiki/Determinism\" title=\"Determinism\">determinism</a>, and metaphysical outlooks such as <a href=\"/wiki/Empiricism\" title=\"Empiricism\">empiricism</a>, <a href=\"/wiki/Naturalism_(philosophy)\" title=\"Naturalism (philosophy)\">naturalism</a> and <a href=\"/wiki/Philosophical_realism\" title=\"Philosophical realism\">realism</a>.<sup class=\"reference\" id=\"cite_ref-godfreysmith2003ch15_40-0\"><a href=\"#cite_note-godfreysmith2003ch15-40\">[37]</a></sup>\n",
            "</p>\n",
            "25: <p>Many physicists have written about the philosophical implications of their work, for instance <a href=\"/wiki/Pierre-Simon_Laplace\" title=\"Pierre-Simon Laplace\">Laplace</a>, who championed <a class=\"mw-redirect\" href=\"/wiki/Causal_determinism\" title=\"Causal determinism\">causal determinism</a>,<sup class=\"reference\" id=\"cite_ref-laplace1951_41-0\"><a href=\"#cite_note-laplace1951-41\">[38]</a></sup> and <a href=\"/wiki/Erwin_Schr%C3%B6dinger\" title=\"Erwin Schrödinger\">Erwin Schrödinger</a>, who wrote on <a href=\"/wiki/Quantum_mechanics\" title=\"Quantum mechanics\">quantum mechanics</a>.<sup class=\"reference\" id=\"cite_ref-schroedinger1983_42-0\"><a href=\"#cite_note-schroedinger1983-42\">[39]</a></sup><sup class=\"reference\" id=\"cite_ref-schroedinger1995_43-0\"><a href=\"#cite_note-schroedinger1995-43\">[40]</a></sup> The mathematical physicist <a href=\"/wiki/Roger_Penrose\" title=\"Roger Penrose\">Roger Penrose</a> had been called a <a href=\"/wiki/Platonism\" title=\"Platonism\">Platonist</a> by <a href=\"/wiki/Stephen_Hawking\" title=\"Stephen Hawking\">Stephen Hawking</a>,<sup class=\"reference\" id=\"cite_ref-hawkingpenrose1996p4_44-0\"><a href=\"#cite_note-hawkingpenrose1996p4-44\">[41]</a></sup> a view Penrose discusses in his book, <i><a href=\"/wiki/The_Road_to_Reality\" title=\"The Road to Reality\">The Road to Reality</a></i>.<sup class=\"reference\" id=\"cite_ref-penrose2004_45-0\"><a href=\"#cite_note-penrose2004-45\">[42]</a></sup> Hawking referred to himself as an \"unashamed reductionist\" and took issue with Penrose's views.<sup class=\"reference\" id=\"cite_ref-penroseshimonycartwrighthawking1997_46-0\"><a href=\"#cite_note-penroseshimonycartwrighthawking1997-46\">[43]</a></sup>\n",
            "</p>\n",
            "26: <p>Though physics deals with a wide variety of systems, certain theories are used by all physicists. Each of these theories were experimentally tested numerous times and found to be an adequate approximation of nature. For instance, the theory of <a href=\"/wiki/Classical_physics\" title=\"Classical physics\">classical</a> mechanics accurately describes the motion of objects, provided they are much larger than <a href=\"/wiki/Atom\" title=\"Atom\">atoms</a> and moving at much less than the <a href=\"/wiki/Speed_of_light\" title=\"Speed of light\">speed of light</a>. These theories continue to be areas of active research today. <a href=\"/wiki/Chaos_theory\" title=\"Chaos theory\">Chaos theory</a>, a remarkable aspect of classical mechanics was discovered in the 20th century, three centuries after the original formulation of classical mechanics by <a href=\"/wiki/Isaac_Newton\" title=\"Isaac Newton\">Isaac Newton</a> (1642–1727).\n",
            "</p>\n",
            "27: <p>These central theories are important tools for research into more specialised topics, and any physicist, regardless of their specialisation, is expected to be literate in them. These include <a href=\"/wiki/Classical_mechanics\" title=\"Classical mechanics\">classical mechanics</a>, <a href=\"/wiki/Quantum_mechanics\" title=\"Quantum mechanics\">quantum mechanics</a>, <a href=\"/wiki/Thermodynamics\" title=\"Thermodynamics\">thermodynamics</a> and <a href=\"/wiki/Statistical_mechanics\" title=\"Statistical mechanics\">statistical mechanics</a>, <a href=\"/wiki/Electromagnetism\" title=\"Electromagnetism\">electromagnetism</a>, and <a href=\"/wiki/Special_relativity\" title=\"Special relativity\">special relativity</a>.\n",
            "</p>\n",
            "28: <p><a href=\"/wiki/Classical_physics\" title=\"Classical physics\">Classical physics</a> includes the traditional branches and topics that were recognised and well-developed before the beginning of the 20th century—<a href=\"/wiki/Classical_mechanics\" title=\"Classical mechanics\">classical mechanics</a>, <a href=\"/wiki/Acoustics\" title=\"Acoustics\">acoustics</a>, <a href=\"/wiki/Optics\" title=\"Optics\">optics</a>, <a href=\"/wiki/Thermodynamics\" title=\"Thermodynamics\">thermodynamics</a>, and <a href=\"/wiki/Electromagnetism\" title=\"Electromagnetism\">electromagnetism</a>. <a href=\"/wiki/Classical_mechanics\" title=\"Classical mechanics\">Classical mechanics</a> is concerned with bodies acted on by <a href=\"/wiki/Force\" title=\"Force\">forces</a> and bodies in <a class=\"mw-redirect\" href=\"/wiki/Motion_(physics)\" title=\"Motion (physics)\">motion</a> and may be divided into <a href=\"/wiki/Statics\" title=\"Statics\">statics</a> (study of the forces on a body or bodies not subject to an acceleration), <a href=\"/wiki/Kinematics\" title=\"Kinematics\">kinematics</a> (study of motion without regard to its causes), and <a href=\"/wiki/Analytical_dynamics\" title=\"Analytical dynamics\">dynamics</a> (study of motion and the forces that affect it); mechanics may also be divided into <a href=\"/wiki/Solid_mechanics\" title=\"Solid mechanics\">solid mechanics</a> and <a href=\"/wiki/Fluid_mechanics\" title=\"Fluid mechanics\">fluid mechanics</a> (known together as <a href=\"/wiki/Continuum_mechanics\" title=\"Continuum mechanics\">continuum mechanics</a>), the latter include such branches as <a href=\"/wiki/Hydrostatics\" title=\"Hydrostatics\">hydrostatics</a>, <a href=\"/wiki/Fluid_dynamics\" title=\"Fluid dynamics\">hydrodynamics</a>, <a href=\"/wiki/Aerodynamics\" title=\"Aerodynamics\">aerodynamics</a>, and <a href=\"/wiki/Pneumatics\" title=\"Pneumatics\">pneumatics</a>. Acoustics is the study of how sound is produced, controlled, transmitted and received.<sup class=\"reference\" id=\"cite_ref-britannica-acoustics_47-0\"><a href=\"#cite_note-britannica-acoustics-47\">[44]</a></sup>  Important modern branches of acoustics include <a class=\"mw-redirect\" href=\"/wiki/Ultrasonics\" title=\"Ultrasonics\">ultrasonics</a>, the study of sound waves of very high frequency beyond the range of human hearing; <a href=\"/wiki/Bioacoustics\" title=\"Bioacoustics\">bioacoustics</a>, the physics of animal calls and hearing,<sup class=\"reference\" id=\"cite_ref-48\"><a href=\"#cite_note-48\">[45]</a></sup> and <a class=\"mw-redirect\" href=\"/wiki/Electroacoustics\" title=\"Electroacoustics\">electroacoustics</a>, the manipulation of audible sound waves using electronics.<sup class=\"reference\" id=\"cite_ref-49\"><a href=\"#cite_note-49\">[46]</a></sup>\n",
            "</p>\n",
            "29: <p><a href=\"/wiki/Optics\" title=\"Optics\">Optics</a>, the study of <a href=\"/wiki/Light\" title=\"Light\">light</a>, is concerned not only with <a class=\"mw-redirect\" href=\"/wiki/Visible_light\" title=\"Visible light\">visible light</a> but also with <a href=\"/wiki/Infrared\" title=\"Infrared\">infrared</a> and <a class=\"mw-redirect\" href=\"/wiki/Ultraviolet_radiation\" title=\"Ultraviolet radiation\">ultraviolet radiation</a>, which exhibit all of the phenomena of visible light except visibility, e.g., reflection, refraction, interference, diffraction, dispersion, and polarization of light. <a href=\"/wiki/Heat\" title=\"Heat\">Heat</a> is a form of <a href=\"/wiki/Energy\" title=\"Energy\">energy</a>, the internal energy possessed by the particles of which a substance is composed; thermodynamics deals with the relationships between heat and other forms of energy. <a href=\"/wiki/Electricity\" title=\"Electricity\">Electricity</a> and <a href=\"/wiki/Magnetism\" title=\"Magnetism\">magnetism</a> have been studied as a single branch of physics since the intimate connection between them was discovered in the early 19th century; an <a href=\"/wiki/Electric_current\" title=\"Electric current\">electric current</a> gives rise to a <a href=\"/wiki/Magnetic_field\" title=\"Magnetic field\">magnetic field</a>, and a changing magnetic field induces an electric current. <a href=\"/wiki/Electrostatics\" title=\"Electrostatics\">Electrostatics</a> deals with <a href=\"/wiki/Electric_charge\" title=\"Electric charge\">electric charges</a> at rest, <a href=\"/wiki/Classical_electromagnetism\" title=\"Classical electromagnetism\">electrodynamics</a> with moving charges, and <a href=\"/wiki/Magnetostatics\" title=\"Magnetostatics\">magnetostatics</a> with magnetic poles at rest.\n",
            "</p>\n",
            "30: <p>Classical physics is generally concerned with matter and energy on the normal scale of observation, while much of modern physics is concerned with the behavior of matter and energy under extreme conditions or on a very large or very small scale. For example, <a href=\"/wiki/Atomic_physics\" title=\"Atomic physics\">atomic</a> and <a href=\"/wiki/Nuclear_physics\" title=\"Nuclear physics\">nuclear physics</a> studies matter on the smallest scale at which <a href=\"/wiki/Chemical_element\" title=\"Chemical element\">chemical elements</a> can be identified. The <a href=\"/wiki/Particle_physics\" title=\"Particle physics\">physics of elementary particles</a> is on an even smaller scale since it is concerned with the most basic units of matter; this branch of physics is also known as high-energy physics because of the extremely high energies necessary to produce many types of particles in <a href=\"/wiki/Particle_accelerator\" title=\"Particle accelerator\">particle accelerators</a>. On this scale, ordinary, commonsensical notions of space, time, matter, and energy are no longer valid.<sup class=\"reference\" id=\"cite_ref-50\"><a href=\"#cite_note-50\">[47]</a></sup>\n",
            "</p>\n",
            "31: <p>The two chief theories of modern physics present a different picture of the concepts of space, time, and matter from that presented by classical physics. Classical mechanics approximates nature as continuous, while <a href=\"/wiki/Quantum_mechanics\" title=\"Quantum mechanics\">quantum theory</a> is concerned with the discrete nature of many phenomena at the atomic and subatomic level and with the complementary aspects of particles and waves in the description of such phenomena. The <a href=\"/wiki/Theory_of_relativity\" title=\"Theory of relativity\">theory of relativity</a> is concerned with the description of phenomena that take place in a <a href=\"/wiki/Frame_of_reference\" title=\"Frame of reference\">frame of reference</a> that is in motion with respect to an observer; the <a href=\"/wiki/Special_relativity\" title=\"Special relativity\">special theory of relativity</a> is concerned with motion in the absence of gravitational fields and the <a href=\"/wiki/General_relativity\" title=\"General relativity\">general theory of relativity</a> with motion and its connection with <a class=\"mw-redirect\" href=\"/wiki/Gravitation\" title=\"Gravitation\">gravitation</a>. Both quantum theory and the theory of relativity find applications in all areas of modern physics.<sup class=\"reference\" id=\"cite_ref-51\"><a href=\"#cite_note-51\">[48]</a></sup>\n",
            "</p>\n",
            "32: <p>While physics aims to discover universal laws, its theories lie in explicit domains of applicability. Loosely speaking, the laws of <a href=\"/wiki/Classical_physics\" title=\"Classical physics\">classical physics</a> accurately describe systems whose important length scales are greater than the atomic scale and whose motions are much slower than the speed of light. Outside of this domain, observations do not match predictions provided by classical mechanics. <a href=\"/wiki/Albert_Einstein\" title=\"Albert Einstein\">Albert Einstein</a> contributed the framework of <a href=\"/wiki/Special_relativity\" title=\"Special relativity\">special relativity</a>, which replaced notions of <a class=\"mw-redirect\" href=\"/wiki/Absolute_time_and_space\" title=\"Absolute time and space\">absolute time and space</a> with <a href=\"/wiki/Spacetime\" title=\"Spacetime\">spacetime</a> and allowed an accurate description of systems whose components have speeds approaching the speed of light. <a href=\"/wiki/Max_Planck\" title=\"Max Planck\">Max Planck</a>, <a href=\"/wiki/Erwin_Schr%C3%B6dinger\" title=\"Erwin Schrödinger\">Erwin Schrödinger</a>, and others introduced <a href=\"/wiki/Quantum_mechanics\" title=\"Quantum mechanics\">quantum mechanics</a>, a probabilistic notion of particles and interactions that allowed an accurate description of atomic and subatomic scales. Later, <a href=\"/wiki/Quantum_field_theory\" title=\"Quantum field theory\">quantum field theory</a> unified <a href=\"/wiki/Quantum_mechanics\" title=\"Quantum mechanics\">quantum mechanics</a> and <a href=\"/wiki/Special_relativity\" title=\"Special relativity\">special relativity</a>. <a href=\"/wiki/General_relativity\" title=\"General relativity\">General relativity</a> allowed for a dynamical, curved <a href=\"/wiki/Spacetime\" title=\"Spacetime\">spacetime</a>, with which highly massive systems and the large-scale structure of the universe can be well-described. General relativity has not yet been unified with the other fundamental descriptions; several candidate theories of <a href=\"/wiki/Quantum_gravity\" title=\"Quantum gravity\">quantum gravity</a> are being developed.\n",
            "</p>\n",
            "33: <p>Mathematics provides a compact and exact language used to describe the order in nature. This was noted and advocated by <a href=\"/wiki/Pythagoras\" title=\"Pythagoras\">Pythagoras</a>,<sup class=\"reference\" id=\"cite_ref-dijksterhuis1986_52-0\"><a href=\"#cite_note-dijksterhuis1986-52\">[49]</a></sup> <a href=\"/wiki/Plato\" title=\"Plato\">Plato</a>,<sup class=\"reference\" id=\"cite_ref-mastin2010-plato_53-0\"><a href=\"#cite_note-mastin2010-plato-53\">[50]</a></sup> <a href=\"/wiki/Galileo_Galilei\" title=\"Galileo Galilei\">Galileo</a>,<sup class=\"reference\" id=\"cite_ref-toraldodifrancia1976p10-galileo_54-0\"><a href=\"#cite_note-toraldodifrancia1976p10-galileo-54\">[51]</a></sup> and <a href=\"/wiki/Isaac_Newton\" title=\"Isaac Newton\">Newton</a>.\n",
            "</p>\n",
            "34: <p>Physics uses mathematics<sup class=\"reference\" id=\"cite_ref-applicationsofmathematics_55-0\"><a href=\"#cite_note-applicationsofmathematics-55\">[52]</a></sup> to organise and formulate experimental results. From those results, <a class=\"mw-redirect\" href=\"/wiki/Analytic_solution\" title=\"Analytic solution\">precise</a> or <a href=\"/wiki/Simulation#Computer_simulation\" title=\"Simulation\">estimated</a> solutions are obtained, quantitative results from which new predictions can be made and experimentally confirmed or negated. The results from physics experiments are numerical data, with their <a class=\"mw-redirect\" href=\"/wiki/Units_of_measure\" title=\"Units of measure\">units of measure</a> and estimates of the errors in the measurements. Technologies based on mathematics, like <a class=\"mw-redirect\" href=\"/wiki/Scientific_computing\" title=\"Scientific computing\">computation</a> have made <a href=\"/wiki/Computational_physics\" title=\"Computational physics\">computational physics</a> an active area of research.\n",
            "</p>\n",
            "35: <p><a href=\"/wiki/Ontology\" title=\"Ontology\">Ontology</a> is a prerequisite for physics, but not for mathematics. It means physics is ultimately concerned with descriptions of the real world, while mathematics is concerned with abstract patterns, even beyond the real world. Thus physics statements are synthetic, while mathematical statements are analytic. Mathematics contains hypotheses, while physics contains theories. Mathematics statements have to be only logically true, while predictions of physics statements must match observed and experimental data.\n",
            "</p>\n",
            "36: <p>The distinction is clear-cut, but not always obvious. For example, mathematical physics is the application of mathematics in physics. Its methods are mathematical, but its subject is physical.<sup class=\"reference\" id=\"cite_ref-jmp-def_56-0\"><a href=\"#cite_note-jmp-def-56\">[53]</a></sup> The problems in this field start with a \"<a class=\"mw-redirect\" href=\"/wiki/Boundary_condition\" title=\"Boundary condition\">mathematical model of a physical situation</a>\" (system) and a \"mathematical description of a physical law\" that will be applied to that system. Every mathematical statement used for solving has a hard-to-find physical meaning. The final mathematical solution has an easier-to-find meaning, because it is what the solver is looking for.<sup class=\"noprint Inline-Template\" style=\"margin-left:0.1em; white-space:nowrap;\">[<i><a href=\"/wiki/Wikipedia:Please_clarify\" title=\"Wikipedia:Please clarify\"><span title=\"The text near this tag may need clarification or removal of jargon. (August 2015)\">clarification needed</span></a></i>]</sup>\n",
            "</p>\n",
            "37: <p>Pure physics is a branch of <a class=\"mw-redirect\" href=\"/wiki/Fundamental_science\" title=\"Fundamental science\">fundamental science</a> (also called <i>basic</i> science<a class=\"mw-redirect\" href=\"/wiki/Fundamental_science\" title=\"Fundamental science\">)</a> . Physics is also called \"the fundamental science\" because all branches of <a href=\"/wiki/Natural_science\" title=\"Natural science\">natural science</a> like chemistry, astronomy, geology, and biology are constrained by laws of physics.<sup class=\"reference\" id=\"cite_ref-feynmanleightonsands1963v1ch3_57-0\"><a href=\"#cite_note-feynmanleightonsands1963v1ch3-57\">[54]</a></sup> Similarly, chemistry is often called <a href=\"/wiki/The_central_science\" title=\"The central science\">the central science</a> because of its role in linking the physical sciences. For example, chemistry studies properties, structures, and <a href=\"/wiki/Chemical_reaction\" title=\"Chemical reaction\">reactions</a> of matter (chemistry's focus on the molecular and atomic scale <a class=\"mw-redirect\" href=\"/wiki/Difference_between_chemistry_and_physics\" title=\"Difference between chemistry and physics\">distinguishes it from physics</a>). Structures are formed because particles exert electrical forces on each other, properties include physical characteristics of given substances, and reactions are bound by laws of physics, like conservation of energy, mass, and charge. Physics is applied in industries like engineering and medicine.\n",
            "</p>\n",
            "38: <p><a href=\"/wiki/Applied_physics\" title=\"Applied physics\">Applied physics</a> is a general term for physics research which is intended for a particular use. An applied physics curriculum usually contains a few classes in an applied discipline, like geology or electrical engineering. It usually differs from <a href=\"/wiki/Engineering\" title=\"Engineering\">engineering</a> in that an applied physicist may not be designing something in particular, but rather is using physics or conducting physics research with the aim of developing new technologies or solving a problem.\n",
            "</p>\n",
            "39: <p>The approach is similar to that of <a href=\"/wiki/Applied_mathematics\" title=\"Applied mathematics\">applied mathematics</a>. Applied physicists use physics in scientific research. For instance, people working on <a href=\"/wiki/Accelerator_physics\" title=\"Accelerator physics\">accelerator physics</a> might seek to build better <a href=\"/wiki/Particle_detector\" title=\"Particle detector\">particle detectors</a> for research in theoretical physics.\n",
            "</p>\n",
            "40: <p>Physics is used heavily in <a href=\"/wiki/Engineering\" title=\"Engineering\">engineering</a>. For example, <a href=\"/wiki/Statics\" title=\"Statics\">statics</a>, a subfield of <a href=\"/wiki/Mechanics\" title=\"Mechanics\">mechanics</a>, is used in the building of <a href=\"/wiki/Bridge\" title=\"Bridge\">bridges</a> and other static structures. The understanding and use of <a href=\"/wiki/Acoustics\" title=\"Acoustics\">acoustics</a> results in sound control and better concert halls; similarly, the use of <a href=\"/wiki/Optics\" title=\"Optics\">optics</a> creates better optical devices. An understanding of physics makes for more realistic <a href=\"/wiki/Flight_simulator\" title=\"Flight simulator\">flight simulators</a>, <a href=\"/wiki/Video_game\" title=\"Video game\">video games</a>, and movies, and is often critical in <a class=\"mw-redirect\" href=\"/wiki/Forensic\" title=\"Forensic\">forensic</a> investigations.\n",
            "</p>\n",
            "41: <p>With the <a class=\"mw-redirect\" href=\"/wiki/Uniformitarianism_(science)\" title=\"Uniformitarianism (science)\">standard consensus</a> that the <a href=\"/wiki/Scientific_law\" title=\"Scientific law\">laws</a> of physics are universal and do not change with time, physics can be used to study things that would ordinarily be mired in <a href=\"/wiki/Uncertainty\" title=\"Uncertainty\">uncertainty</a>. For example, in the <a href=\"/wiki/History_of_Earth#Origin_of_the_Earth's_core_and_first_atmosphere\" title=\"History of Earth\">study of the origin of the earth</a>, one can reasonably model earth's mass, temperature, and rate of rotation, as a function of time allowing one to extrapolate forward or backward in time and so predict future or prior events. It also allows for simulations in engineering that drastically speed up the development of a new technology.\n",
            "</p>\n",
            "42: <p>But there is also considerable <a href=\"/wiki/Interdisciplinarity\" title=\"Interdisciplinarity\">interdisciplinarity</a>, so many other important fields are influenced by physics (e.g., the fields of <a href=\"/wiki/Econophysics\" title=\"Econophysics\">econophysics</a> and <a class=\"mw-redirect\" href=\"/wiki/Sociophysics\" title=\"Sociophysics\">sociophysics</a>).\n",
            "</p>\n",
            "43: <p>Physicists use <a href=\"/wiki/Scientific_method\" title=\"Scientific method\">the scientific method</a> to test the validity of a <a class=\"mw-redirect\" href=\"/wiki/Physical_theory\" title=\"Physical theory\">physical theory</a>. By using a methodical approach to compare the implications of a theory with the conclusions drawn from its related <a href=\"/wiki/Experiment\" title=\"Experiment\">experiments</a> and observations, physicists are better able to test the validity of a theory in a logical, unbiased, and repeatable way. To that end, experiments are performed and observations are made in order to determine the validity or invalidity of the theory.<sup class=\"reference\" id=\"cite_ref-58\"><a href=\"#cite_note-58\">[55]</a></sup>\n",
            "</p>\n",
            "44: <p>A <a href=\"/wiki/Scientific_law\" title=\"Scientific law\">scientific law</a> is a concise verbal or mathematical statement of a relation that expresses a fundamental principle of some theory, such as Newton's law of universal gravitation.<sup class=\"reference\" id=\"cite_ref-honderich1995pp474-476_59-0\"><a href=\"#cite_note-honderich1995pp474-476-59\">[56]</a></sup>\n",
            "</p>\n",
            "45: <p>Theorists seek to develop <a href=\"/wiki/Mathematical_model\" title=\"Mathematical model\">mathematical models</a> that both agree with existing experiments and successfully predict future experimental results, while <a href=\"/wiki/Experimentalism\" title=\"Experimentalism\">experimentalists</a> devise and perform experiments to test theoretical predictions and explore new phenomena. Although theory and experiment are developed separately, they strongly affect and depend upon each other. Progress in physics frequently comes about when experimental results defy explanation by existing theories, prompting intense focus on applicable modelling, and when new theories generate experimentally testable <a href=\"/wiki/Prediction\" title=\"Prediction\">predictions</a>, which inspire developing new experiments (and often related equipment, possibly roping in some applied physicists to help build it).<sup class=\"reference\" id=\"cite_ref-60\"><a href=\"#cite_note-60\">[57]</a></sup>\n",
            "</p>\n",
            "46: <p><a href=\"/wiki/Physicist\" title=\"Physicist\">Physicists</a> who work at the interplay of theory and experiment are called <a class=\"mw-redirect\" href=\"/wiki/Phenomenology_(particle_physics)\" title=\"Phenomenology (particle physics)\">phenomenologists</a>, who study complex phenomena observed in experiment and work to relate them to a <a href=\"/wiki/Theory_of_everything\" title=\"Theory of everything\">fundamental theory</a>.<sup class=\"reference\" id=\"cite_ref-61\"><a href=\"#cite_note-61\">[58]</a></sup>\n",
            "</p>\n",
            "47: <p>Theoretical physics has historically taken inspiration from philosophy; <a href=\"/wiki/Electromagnetism\" title=\"Electromagnetism\">electromagnetism</a> was unified this way.<sup class=\"reference\" id=\"cite_ref-62\"><a href=\"#cite_note-62\">[d]</a></sup> Beyond the known universe, the field of theoretical physics also deals with hypothetical issues,<sup class=\"reference\" id=\"cite_ref-63\"><a href=\"#cite_note-63\">[e]</a></sup> such as <a href=\"/wiki/Many-worlds_interpretation\" title=\"Many-worlds interpretation\">parallel universes</a>, a <a href=\"/wiki/Multiverse\" title=\"Multiverse\">multiverse</a>, and <a class=\"mw-redirect\" href=\"/wiki/Higher_dimension\" title=\"Higher dimension\">higher dimensions</a>. Theorists invoke these ideas in hopes of solving particular problems with existing theories. They then explore the consequences of these ideas and work toward making testable predictions.\n",
            "</p>\n",
            "48: <p>Experimental physics expands, and is expanded by, <a href=\"/wiki/Engineering\" title=\"Engineering\">engineering</a> and <a href=\"/wiki/Technology\" title=\"Technology\">technology</a>. Experimental physicists involved in <a href=\"/wiki/Basic_research\" title=\"Basic research\">basic research</a> design and perform experiments with equipment such as <a href=\"/wiki/Particle_accelerator\" title=\"Particle accelerator\">particle accelerators</a> and <a href=\"/wiki/Laser\" title=\"Laser\">lasers</a>, whereas those involved in <a class=\"mw-redirect\" href=\"/wiki/Applied_research\" title=\"Applied research\">applied research</a> often work in industry developing technologies such as <a href=\"/wiki/Magnetic_resonance_imaging\" title=\"Magnetic resonance imaging\">magnetic resonance imaging</a> (MRI) and <a href=\"/wiki/Transistor\" title=\"Transistor\">transistors</a>. <a href=\"/wiki/Richard_Feynman\" title=\"Richard Feynman\">Feynman</a> has noted that experimentalists may seek areas that have not been explored well by theorists.<sup class=\"reference\" id=\"cite_ref-feynman1965p157-experiment_64-0\"><a href=\"#cite_note-feynman1965p157-experiment-64\">[59]</a></sup>\n",
            "</p>\n",
            "49: <p>Physics covers a wide range of <a href=\"/wiki/Phenomenon\" title=\"Phenomenon\">phenomena</a>, from <a href=\"/wiki/Elementary_particle\" title=\"Elementary particle\">elementary particles</a> (such as quarks, neutrinos, and electrons) to the largest <a href=\"/wiki/Supercluster\" title=\"Supercluster\">superclusters</a> of galaxies. Included in these phenomena are the most basic objects composing all other things. Therefore, physics is sometimes called the \"<a class=\"mw-redirect\" href=\"/wiki/Fundamental_science\" title=\"Fundamental science\">fundamental science</a>\".<sup class=\"reference\" id=\"cite_ref-feynmanleightonsands1963v1ch3_57-1\"><a href=\"#cite_note-feynmanleightonsands1963v1ch3-57\">[54]</a></sup> Physics aims to describe the various phenomena that occur in nature in terms of simpler phenomena. Thus, physics aims to both connect the things observable to humans to <a href=\"/wiki/Root_cause\" title=\"Root cause\">root causes</a>, and then connect these causes together.\n",
            "</p>\n",
            "50: <p>For example, the <a href=\"/wiki/History_of_China\" title=\"History of China\">ancient Chinese</a> observed that certain rocks (<a href=\"/wiki/Lodestone\" title=\"Lodestone\">lodestone</a> and <a href=\"/wiki/Magnetite\" title=\"Magnetite\">magnetite</a>) were attracted to one another by an invisible force. This effect was later called <a href=\"/wiki/Magnetism\" title=\"Magnetism\">magnetism</a>, which was first rigorously studied in the 17th century. But even before the Chinese discovered magnetism, the <a href=\"/wiki/Ancient_Greece\" title=\"Ancient Greece\">ancient Greeks</a> knew of other objects such as <a href=\"/wiki/Amber\" title=\"Amber\">amber</a>, that when rubbed with fur would cause a similar invisible attraction between the two.<sup class=\"reference\" id=\"cite_ref-stewart_65-0\"><a href=\"#cite_note-stewart-65\">[60]</a></sup> This was also first studied rigorously in the 17th century and came to be called <a href=\"/wiki/Electricity\" title=\"Electricity\">electricity</a>. Thus, physics had come to understand two observations of nature in terms of some root cause (electricity and magnetism). However, further work in the 19th century revealed that these two forces were just two different aspects of one force—<a href=\"/wiki/Electromagnetism\" title=\"Electromagnetism\">electromagnetism</a>. This process of \"unifying\" forces continues today, and electromagnetism and the <a class=\"mw-redirect\" href=\"/wiki/Weak_nuclear_force\" title=\"Weak nuclear force\">weak nuclear force</a> are now considered to be two aspects of the <a href=\"/wiki/Electroweak_interaction\" title=\"Electroweak interaction\">electroweak interaction</a>. Physics hopes to find an ultimate reason (<a href=\"/wiki/Theory_of_everything\" title=\"Theory of everything\">theory of everything</a>) for why nature is as it is (see section <i><a href=\"#Current_research\">Current research</a></i> below for more information).<sup class=\"reference\" id=\"cite_ref-66\"><a href=\"#cite_note-66\">[61]</a></sup>\n",
            "</p>\n",
            "51: <p>Contemporary research in physics can be broadly divided into <a href=\"/wiki/Nuclear_physics\" title=\"Nuclear physics\">nuclear</a> and <a href=\"/wiki/Particle_physics\" title=\"Particle physics\">particle physics</a>; <a href=\"/wiki/Condensed_matter_physics\" title=\"Condensed matter physics\">condensed matter physics</a>; <a href=\"/wiki/Atomic,_molecular,_and_optical_physics\" title=\"Atomic, molecular, and optical physics\">atomic, molecular, and optical physics</a>; <a href=\"/wiki/Astrophysics\" title=\"Astrophysics\">astrophysics</a>; and <a href=\"/wiki/Applied_physics\" title=\"Applied physics\">applied physics</a>. Some physics departments also support <a class=\"mw-redirect\" href=\"/wiki/Physics_education_research\" title=\"Physics education research\">physics education research</a> and <a href=\"/wiki/Physics_outreach\" title=\"Physics outreach\">physics outreach</a>.<sup class=\"reference\" id=\"cite_ref-67\"><a href=\"#cite_note-67\">[62]</a></sup>\n",
            "</p>\n",
            "52: <p>Since the 20th century, the individual fields of physics have become increasingly specialised, and today most physicists work in a single field for their entire careers. \"Universalists\" such as <a href=\"/wiki/Albert_Einstein\" title=\"Albert Einstein\">Albert Einstein</a> (1879–1955) and <a href=\"/wiki/Lev_Landau\" title=\"Lev Landau\">Lev Landau</a> (1908–1968), who worked in multiple fields of physics, are now very rare.<sup class=\"reference\" id=\"cite_ref-68\"><a href=\"#cite_note-68\">[f]</a></sup>\n",
            "</p>\n",
            "53: <p>The major fields of physics, along with their subfields and the theories and concepts they employ, are shown in the following table.\n",
            "</p>\n",
            "54: <p><a href=\"/wiki/Particle_physics\" title=\"Particle physics\">Particle physics</a> is the study of the <a href=\"/wiki/Elementary_particle\" title=\"Elementary particle\">elementary</a> constituents of <a href=\"/wiki/Matter\" title=\"Matter\">matter</a> and <a href=\"/wiki/Energy\" title=\"Energy\">energy</a> and the <a href=\"/wiki/Fundamental_interaction\" title=\"Fundamental interaction\">interactions</a> between them.<sup class=\"reference\" id=\"cite_ref-aps-dpf_69-0\"><a href=\"#cite_note-aps-dpf-69\">[63]</a></sup> In addition, particle physicists design and develop the high-energy <a href=\"/wiki/Particle_accelerator\" title=\"Particle accelerator\">accelerators</a>,<sup class=\"reference\" id=\"cite_ref-halpern2010_70-0\"><a href=\"#cite_note-halpern2010-70\">[64]</a></sup> <a href=\"/wiki/Particle_detector\" title=\"Particle detector\">detectors</a>,<sup class=\"reference\" id=\"cite_ref-grupen1999_71-0\"><a href=\"#cite_note-grupen1999-71\">[65]</a></sup> and <a href=\"/wiki/Computational_particle_physics\" title=\"Computational particle physics\">computer programs</a><sup class=\"reference\" id=\"cite_ref-walsh2012_72-0\"><a href=\"#cite_note-walsh2012-72\">[66]</a></sup> necessary for this research. The field is also called \"high-energy physics\" because many elementary particles do not occur naturally but are created only during high-energy <a href=\"/wiki/Collision\" title=\"Collision\">collisions</a> of other particles.<sup class=\"reference\" id=\"cite_ref-iop-hepp_73-0\"><a href=\"#cite_note-iop-hepp-73\">[67]</a></sup>\n",
            "</p>\n",
            "55: <p>Currently, the interactions of elementary particles and <a href=\"/wiki/Field_(physics)\" title=\"Field (physics)\">fields</a> are described by the <a href=\"/wiki/Standard_Model\" title=\"Standard Model\">Standard Model</a>.<sup class=\"reference\" id=\"cite_ref-oerter2006_74-0\"><a href=\"#cite_note-oerter2006-74\">[68]</a></sup> The model accounts for the 12 known particles of matter (<a href=\"/wiki/Quark\" title=\"Quark\">quarks</a> and <a href=\"/wiki/Lepton\" title=\"Lepton\">leptons</a>) that interact via the <a class=\"mw-redirect\" href=\"/wiki/Strong_nuclear_force\" title=\"Strong nuclear force\">strong</a>, <a class=\"mw-redirect\" href=\"/wiki/Weak_nuclear_force\" title=\"Weak nuclear force\">weak</a>, and <a href=\"/wiki/Electromagnetism\" title=\"Electromagnetism\">electromagnetic</a> <a class=\"mw-redirect\" href=\"/wiki/Fundamental_force\" title=\"Fundamental force\">fundamental forces</a>.<sup class=\"reference\" id=\"cite_ref-oerter2006_74-1\"><a href=\"#cite_note-oerter2006-74\">[68]</a></sup> Dynamics are described in terms of matter particles exchanging <a href=\"/wiki/Gauge_boson\" title=\"Gauge boson\">gauge bosons</a> (<a href=\"/wiki/Gluon\" title=\"Gluon\">gluons</a>, <a href=\"/wiki/W_and_Z_bosons\" title=\"W and Z bosons\">W and Z bosons</a>, and <a href=\"/wiki/Photon\" title=\"Photon\">photons</a>, respectively).<sup class=\"reference\" id=\"cite_ref-gribbin1998_75-0\"><a href=\"#cite_note-gribbin1998-75\">[69]</a></sup> The Standard Model also predicts a particle known as the <a href=\"/wiki/Higgs_boson\" title=\"Higgs boson\">Higgs boson</a>.<sup class=\"reference\" id=\"cite_ref-oerter2006_74-2\"><a href=\"#cite_note-oerter2006-74\">[68]</a></sup> In July 2012 <a href=\"/wiki/CERN\" title=\"CERN\">CERN</a>, the European laboratory for particle physics, announced the detection of a particle consistent with the Higgs boson,<sup class=\"reference\" id=\"cite_ref-eonr-higgs_76-0\"><a href=\"#cite_note-eonr-higgs-76\">[70]</a></sup> an integral part of a <a href=\"/wiki/Higgs_mechanism\" title=\"Higgs mechanism\">Higgs mechanism</a>.\n",
            "</p>\n",
            "56: <p><a href=\"/wiki/Nuclear_physics\" title=\"Nuclear physics\">Nuclear physics</a> is the field of physics that studies the constituents and interactions of <a class=\"mw-redirect\" href=\"/wiki/Atomic_nuclei\" title=\"Atomic nuclei\">atomic nuclei</a>. The most commonly known applications of nuclear physics are <a href=\"/wiki/Nuclear_power\" title=\"Nuclear power\">nuclear power</a> generation and <a class=\"mw-redirect\" href=\"/wiki/Nuclear_weapons\" title=\"Nuclear weapons\">nuclear weapons</a> technology, but the research has provided application in many fields, including those in <a href=\"/wiki/Nuclear_medicine\" title=\"Nuclear medicine\">nuclear medicine</a> and <a href=\"/wiki/Magnetic_resonance_imaging\" title=\"Magnetic resonance imaging\">magnetic resonance imaging</a>, <a href=\"/wiki/Ion_implantation\" title=\"Ion implantation\">ion implantation</a> in <a class=\"mw-redirect\" href=\"/wiki/Materials_engineering\" title=\"Materials engineering\">materials engineering</a>, and <a href=\"/wiki/Radiocarbon_dating\" title=\"Radiocarbon dating\">radiocarbon dating</a> in <a href=\"/wiki/Geology\" title=\"Geology\">geology</a> and <a href=\"/wiki/Archaeology\" title=\"Archaeology\">archaeology</a>.\n",
            "</p>\n",
            "57: <p><a href=\"/wiki/Atom\" title=\"Atom\">Atomic</a>, <a href=\"/wiki/Molecule\" title=\"Molecule\">molecular</a>, and <a href=\"/wiki/Optics\" title=\"Optics\">optical</a> physics (AMO) is the study of <a href=\"/wiki/Matter\" title=\"Matter\">matter</a>–matter and <a href=\"/wiki/Light\" title=\"Light\">light</a>–matter interactions on the scale of single <a href=\"/wiki/Atom\" title=\"Atom\">atoms</a> and molecules. The three areas are grouped together because of their interrelationships, the similarity of methods used, and the commonality of their relevant <a href=\"/wiki/Energy\" title=\"Energy\">energy</a> scales. All three areas include both <a href=\"/wiki/Classical_physics\" title=\"Classical physics\">classical</a>, semi-classical and <a class=\"mw-redirect\" href=\"/wiki/Quantum_physics\" title=\"Quantum physics\">quantum</a> treatments; they can treat their subject from a microscopic view (in contrast to a macroscopic view).\n",
            "</p>\n",
            "58: <p><a href=\"/wiki/Atomic_physics\" title=\"Atomic physics\">Atomic physics</a> studies the <a href=\"/wiki/Electron_shell\" title=\"Electron shell\">electron shells</a> of <a href=\"/wiki/Atom\" title=\"Atom\">atoms</a>. Current research focuses on activities in quantum control, cooling and trapping of atoms and ions,<sup class=\"reference\" id=\"cite_ref-77\"><a href=\"#cite_note-77\">[71]</a></sup><sup class=\"reference\" id=\"cite_ref-78\"><a href=\"#cite_note-78\">[72]</a></sup><sup class=\"reference\" id=\"cite_ref-79\"><a href=\"#cite_note-79\">[73]</a></sup> low-temperature collision dynamics and the effects of electron correlation on structure and dynamics. Atomic physics is influenced by the <a href=\"/wiki/Atomic_nucleus\" title=\"Atomic nucleus\">nucleus</a> (see <a class=\"mw-redirect\" href=\"/wiki/Hyperfine_splitting\" title=\"Hyperfine splitting\">hyperfine splitting</a>), but intra-nuclear phenomena such as <a href=\"/wiki/Nuclear_fission\" title=\"Nuclear fission\">fission</a> and <a href=\"/wiki/Nuclear_fusion\" title=\"Nuclear fusion\">fusion</a> are considered part of <a href=\"/wiki/Nuclear_physics\" title=\"Nuclear physics\">nuclear physics</a>.\n",
            "</p>\n",
            "59: <p><a href=\"/wiki/Molecular_physics\" title=\"Molecular physics\">Molecular physics</a> focuses on multi-atomic structures and their internal and external interactions with matter and light. <a class=\"mw-redirect\" href=\"/wiki/Optical_physics\" title=\"Optical physics\">Optical physics</a> is distinct from <a href=\"/wiki/Optics\" title=\"Optics\">optics</a> in that it tends to focus not on the control of classical light fields by macroscopic objects but on the fundamental properties of <a href=\"/wiki/Optical_field\" title=\"Optical field\">optical fields</a> and their interactions with matter in the microscopic realm.\n",
            "</p>\n",
            "60: <p><a href=\"/wiki/Condensed_matter_physics\" title=\"Condensed matter physics\">Condensed matter physics</a> is the field of physics that deals with the macroscopic physical properties of matter.<sup class=\"reference\" id=\"cite_ref-taylorheinonen2002_80-0\"><a href=\"#cite_note-taylorheinonen2002-80\">[74]</a></sup> In particular, it is concerned with the \"condensed\" <a href=\"/wiki/Phase_(matter)\" title=\"Phase (matter)\">phases</a> that appear whenever the number of particles in a system is extremely large and the interactions between them are strong.<sup class=\"reference\" id=\"cite_ref-cohen2008_81-0\"><a href=\"#cite_note-cohen2008-81\">[75]</a></sup>\n",
            "</p>\n",
            "61: <p>The most familiar examples of condensed phases are <a href=\"/wiki/Solid-state_physics\" title=\"Solid-state physics\">solids</a> and <a href=\"/wiki/Liquid\" title=\"Liquid\">liquids</a>, which arise from the bonding by way of the <a class=\"mw-redirect\" href=\"/wiki/Electromagnetic_force\" title=\"Electromagnetic force\">electromagnetic force</a> between <a href=\"/wiki/Atom\" title=\"Atom\">atoms</a>.<sup class=\"reference\" id=\"cite_ref-moore2011_82-0\"><a href=\"#cite_note-moore2011-82\">[76]</a></sup> More exotic condensed phases include the <a class=\"mw-redirect\" href=\"/wiki/Superfluid\" title=\"Superfluid\">superfluid</a><sup class=\"reference\" id=\"cite_ref-leggett1999_83-0\"><a href=\"#cite_note-leggett1999-83\">[77]</a></sup> and the <a href=\"/wiki/Bose%E2%80%93Einstein_condensate\" title=\"Bose–Einstein condensate\">Bose–Einstein condensate</a><sup class=\"reference\" id=\"cite_ref-levy2001_84-0\"><a href=\"#cite_note-levy2001-84\">[78]</a></sup> found in certain atomic systems at very low temperature, the <a href=\"/wiki/Superconductivity\" title=\"Superconductivity\">superconducting</a> phase exhibited by <a class=\"mw-redirect\" href=\"/wiki/Conduction_electron\" title=\"Conduction electron\">conduction electrons</a> in certain materials,<sup class=\"reference\" id=\"cite_ref-stajiccoontzosborne2011_85-0\"><a href=\"#cite_note-stajiccoontzosborne2011-85\">[79]</a></sup> and the <a class=\"mw-redirect\" href=\"/wiki/Ferromagnet\" title=\"Ferromagnet\">ferromagnetic</a> and <a class=\"mw-redirect\" href=\"/wiki/Antiferromagnet\" title=\"Antiferromagnet\">antiferromagnetic</a> phases of <a href=\"/wiki/Spin_(physics)\" title=\"Spin (physics)\">spins</a> on <a class=\"mw-redirect\" href=\"/wiki/Crystal_lattice\" title=\"Crystal lattice\">atomic lattices</a>.<sup class=\"reference\" id=\"cite_ref-mattis2006_86-0\"><a href=\"#cite_note-mattis2006-86\">[80]</a></sup>\n",
            "</p>\n",
            "62: <p>Condensed matter physics is the largest field of contemporary physics. Historically, condensed matter physics grew out of <a href=\"/wiki/Solid-state_physics\" title=\"Solid-state physics\">solid-state physics</a>, which is now considered one of its main subfields.<sup class=\"reference\" id=\"cite_ref-aps-dcmp_87-0\"><a href=\"#cite_note-aps-dcmp-87\">[81]</a></sup> The term <i>condensed matter physics</i> was apparently coined by <a href=\"/wiki/Philip_Warren_Anderson\" title=\"Philip Warren Anderson\">Philip Anderson</a> when he renamed his research group—previously <i>solid-state theory</i>—in 1967.<sup class=\"reference\" id=\"cite_ref-princeton-anderson_88-0\"><a href=\"#cite_note-princeton-anderson-88\">[82]</a></sup> In 1978, the Division of Solid State Physics of the <a href=\"/wiki/American_Physical_Society\" title=\"American Physical Society\">American Physical Society</a> was renamed as the Division of Condensed Matter Physics.<sup class=\"reference\" id=\"cite_ref-aps-dcmp_87-1\"><a href=\"#cite_note-aps-dcmp-87\">[81]</a></sup> Condensed matter physics has a large overlap with <a href=\"/wiki/Chemistry\" title=\"Chemistry\">chemistry</a>, <a href=\"/wiki/Materials_science\" title=\"Materials science\">materials science</a>, <a href=\"/wiki/Nanotechnology\" title=\"Nanotechnology\">nanotechnology</a> and <a href=\"/wiki/Engineering\" title=\"Engineering\">engineering</a>.<sup class=\"reference\" id=\"cite_ref-cohen2008_81-1\"><a href=\"#cite_note-cohen2008-81\">[75]</a></sup>\n",
            "</p>\n",
            "63: <p><a href=\"/wiki/Astrophysics\" title=\"Astrophysics\">Astrophysics</a> and <a href=\"/wiki/Astronomy\" title=\"Astronomy\">astronomy</a> are the application of the theories and methods of physics to the study of <a href=\"/wiki/Stellar_structure\" title=\"Stellar structure\">stellar structure</a>, <a href=\"/wiki/Stellar_evolution\" title=\"Stellar evolution\">stellar evolution</a>, the origin of the Solar System, and related problems of <a href=\"/wiki/Physical_cosmology\" title=\"Physical cosmology\">cosmology</a>. Because astrophysics is a broad subject, astrophysicists typically apply many disciplines of physics, including mechanics, electromagnetism, statistical mechanics, thermodynamics, quantum mechanics, relativity, nuclear and particle physics, and atomic and molecular physics.<sup class=\"reference\" id=\"cite_ref-89\"><a href=\"#cite_note-89\">[83]</a></sup>\n",
            "</p>\n",
            "64: <p>The discovery by <a class=\"mw-redirect\" href=\"/wiki/Karl_Jansky\" title=\"Karl Jansky\">Karl Jansky</a> in 1931 that radio signals were emitted by celestial bodies initiated the science of <a href=\"/wiki/Radio_astronomy\" title=\"Radio astronomy\">radio astronomy</a>. Most recently, the frontiers of astronomy have been expanded by space exploration. Perturbations and interference from the earth's atmosphere make space-based observations necessary for <a href=\"/wiki/Infrared_astronomy\" title=\"Infrared astronomy\">infrared</a>, <a href=\"/wiki/Ultraviolet_astronomy\" title=\"Ultraviolet astronomy\">ultraviolet</a>, <a href=\"/wiki/Gamma-ray_astronomy\" title=\"Gamma-ray astronomy\">gamma-ray</a>, and <a href=\"/wiki/X-ray_astronomy\" title=\"X-ray astronomy\">X-ray astronomy</a>.\n",
            "</p>\n",
            "65: <p><a href=\"/wiki/Physical_cosmology\" title=\"Physical cosmology\">Physical cosmology</a> is the study of the formation and evolution of the universe on its largest scales. Albert Einstein's theory of relativity plays a central role in all modern cosmological theories. In the early 20th century, <a href=\"/wiki/Edwin_Hubble\" title=\"Edwin Hubble\">Hubble</a>'s discovery that the universe is expanding, as shown by the <a class=\"mw-redirect\" href=\"/wiki/Hubble_diagram\" title=\"Hubble diagram\">Hubble diagram</a>, prompted rival explanations known as the <a href=\"/wiki/Steady-state_model\" title=\"Steady-state model\">steady state</a> universe and the <a href=\"/wiki/Big_Bang\" title=\"Big Bang\">Big Bang</a>.\n",
            "</p>\n",
            "66: <p>The Big Bang was confirmed by the success of <a href=\"/wiki/Big_Bang_nucleosynthesis\" title=\"Big Bang nucleosynthesis\">Big Bang nucleosynthesis</a> and the discovery of the <a href=\"/wiki/Cosmic_microwave_background\" title=\"Cosmic microwave background\">cosmic microwave background</a> in 1964. The Big Bang model rests on two theoretical pillars: Albert Einstein's general relativity and the <a href=\"/wiki/Cosmological_principle\" title=\"Cosmological principle\">cosmological principle</a>. Cosmologists have recently established the <a href=\"/wiki/Lambda-CDM_model\" title=\"Lambda-CDM model\">ΛCDM model</a> of the evolution of the universe, which includes <a class=\"mw-redirect\" href=\"/wiki/Cosmic_inflation\" title=\"Cosmic inflation\">cosmic inflation</a>, <a href=\"/wiki/Dark_energy\" title=\"Dark energy\">dark energy</a>, and <a href=\"/wiki/Dark_matter\" title=\"Dark matter\">dark matter</a>.\n",
            "</p>\n",
            "67: <p>Numerous possibilities and discoveries are anticipated to emerge from new data from the <a href=\"/wiki/Fermi_Gamma-ray_Space_Telescope\" title=\"Fermi Gamma-ray Space Telescope\">Fermi Gamma-ray Space Telescope</a> over the upcoming decade and vastly revise or clarify existing models of the universe.<sup class=\"reference\" id=\"cite_ref-nasa-glast_90-0\"><a href=\"#cite_note-nasa-glast-90\">[84]</a></sup><sup class=\"reference\" id=\"cite_ref-91\"><a href=\"#cite_note-91\">[85]</a></sup> In particular, the potential for a tremendous discovery surrounding dark matter is possible over the next several years.<sup class=\"reference\" id=\"cite_ref-nasa-glast-darkmatter_92-0\"><a href=\"#cite_note-nasa-glast-darkmatter-92\">[86]</a></sup> Fermi will search for evidence that dark matter is composed of <a href=\"/wiki/Weakly_interacting_massive_particles\" title=\"Weakly interacting massive particles\">weakly interacting massive particles</a>, complementing similar experiments with the <a href=\"/wiki/Large_Hadron_Collider\" title=\"Large Hadron Collider\">Large Hadron Collider</a> and other underground detectors.\n",
            "</p>\n",
            "68: <p><a class=\"mw-redirect\" href=\"/wiki/IBEX\" title=\"IBEX\">IBEX</a> is already yielding new <a class=\"mw-redirect\" href=\"/wiki/Astrophysical\" title=\"Astrophysical\">astrophysical</a> discoveries: \"No one knows what is creating the <a href=\"/wiki/Energetic_neutral_atom\" title=\"Energetic neutral atom\">ENA (energetic neutral atoms)</a> ribbon\" along the <a class=\"mw-redirect\" href=\"/wiki/Termination_shock\" title=\"Termination shock\">termination shock</a> of the <a href=\"/wiki/Solar_wind\" title=\"Solar wind\">solar wind</a>, \"but everyone agrees that it means the textbook picture of the <a href=\"/wiki/Heliosphere\" title=\"Heliosphere\">heliosphere</a>—in which the Solar System's enveloping pocket filled with the solar wind's charged particles is plowing through the onrushing 'galactic wind' of the interstellar medium in the shape of a comet—is wrong.\"<sup class=\"reference\" id=\"cite_ref-kerr2009_93-0\"><a href=\"#cite_note-kerr2009-93\">[87]</a></sup>\n",
            "</p>\n",
            "69: <p>Research in physics is continually progressing on a large number of fronts.\n",
            "</p>\n",
            "70: <p>In condensed matter physics, an important unsolved theoretical problem is that of <a href=\"/wiki/High-temperature_superconductivity\" title=\"High-temperature superconductivity\">high-temperature superconductivity</a>.<sup class=\"reference\" id=\"cite_ref-Legg2006_94-0\"><a href=\"#cite_note-Legg2006-94\">[88]</a></sup> Many condensed matter experiments are aiming to fabricate workable <a href=\"/wiki/Spintronics\" title=\"Spintronics\">spintronics</a> and <a class=\"mw-redirect\" href=\"/wiki/Quantum_computer\" title=\"Quantum computer\">quantum computers</a>.<sup class=\"reference\" id=\"cite_ref-cohen2008_81-2\"><a href=\"#cite_note-cohen2008-81\">[75]</a></sup><sup class=\"reference\" id=\"cite_ref-95\"><a href=\"#cite_note-95\">[89]</a></sup>\n",
            "</p>\n",
            "71: <p>In particle physics, the first pieces of experimental evidence for physics beyond the <a href=\"/wiki/Standard_Model\" title=\"Standard Model\">Standard Model</a> have begun to appear. Foremost among these are indications that <a href=\"/wiki/Neutrino\" title=\"Neutrino\">neutrinos</a> have non-zero <a href=\"/wiki/Mass\" title=\"Mass\">mass</a>. These experimental results appear to have solved the long-standing <a href=\"/wiki/Solar_neutrino_problem\" title=\"Solar neutrino problem\">solar neutrino problem</a>, and the physics of massive neutrinos remains an area of active theoretical and experimental research. The <a href=\"/wiki/Large_Hadron_Collider\" title=\"Large Hadron Collider\">Large Hadron Collider</a> has already found the <a href=\"/wiki/Higgs_boson\" title=\"Higgs boson\">Higgs boson</a>, but future research aims to prove or disprove the <a href=\"/wiki/Supersymmetry\" title=\"Supersymmetry\">supersymmetry</a>, which extends the Standard Model of particle physics. Research on the nature of the major mysteries of <a href=\"/wiki/Dark_matter\" title=\"Dark matter\">dark matter</a> and <a href=\"/wiki/Dark_energy\" title=\"Dark energy\">dark energy</a> is also currently ongoing.<sup class=\"reference\" id=\"cite_ref-96\"><a href=\"#cite_note-96\">[90]</a></sup>\n",
            "</p>\n",
            "72: <p>Theoretical attempts to unify <a href=\"/wiki/Quantum_mechanics\" title=\"Quantum mechanics\">quantum mechanics</a> and <a href=\"/wiki/General_relativity\" title=\"General relativity\">general relativity</a> into a single theory of <a href=\"/wiki/Quantum_gravity\" title=\"Quantum gravity\">quantum gravity</a>, a program ongoing for over half a century, have not yet been decisively resolved. The current leading candidates are <a href=\"/wiki/M-theory\" title=\"M-theory\">M-theory</a>, <a href=\"/wiki/Superstring_theory\" title=\"Superstring theory\">superstring theory</a> and <a href=\"/wiki/Loop_quantum_gravity\" title=\"Loop quantum gravity\">loop quantum gravity</a>.\n",
            "</p>\n",
            "73: <p>Many <a class=\"mw-redirect\" href=\"/wiki/Astronomical\" title=\"Astronomical\">astronomical</a> and <a href=\"/wiki/Physical_cosmology\" title=\"Physical cosmology\">cosmological</a> phenomena have yet to be satisfactorily explained, including the origin of <a class=\"mw-redirect\" href=\"/wiki/GZK_paradox\" title=\"GZK paradox\">ultra-high-energy cosmic rays</a>, the <a href=\"/wiki/Baryon_asymmetry\" title=\"Baryon asymmetry\">baryon asymmetry</a>, the <a href=\"/wiki/Accelerating_expansion_of_the_universe\" title=\"Accelerating expansion of the universe\">accelerating expansion of the universe</a> and the <a class=\"mw-redirect\" href=\"/wiki/Galaxy_rotation_problem\" title=\"Galaxy rotation problem\">anomalous rotation rates of galaxies</a>.\n",
            "</p>\n",
            "74: <p>Although much progress has been made in high-energy, <a href=\"/wiki/Quantum\" title=\"Quantum\">quantum</a>, and astronomical physics, many everyday phenomena involving <a href=\"/wiki/Complex_system\" title=\"Complex system\">complexity</a>,<sup class=\"reference\" id=\"cite_ref-nrc1997v9p161_97-0\"><a href=\"#cite_note-nrc1997v9p161-97\">[91]</a></sup> <a href=\"/wiki/Chaos_theory\" title=\"Chaos theory\">chaos</a>,<sup class=\"reference\" id=\"cite_ref-kellert1993p32_98-0\"><a href=\"#cite_note-kellert1993p32-98\">[92]</a></sup> or <a href=\"/wiki/Turbulence\" title=\"Turbulence\">turbulence</a><sup class=\"reference\" id=\"cite_ref-eames-quoting-feynman_99-0\"><a href=\"#cite_note-eames-quoting-feynman-99\">[93]</a></sup> are still poorly understood. Complex problems that seem like they could be solved by a clever application of dynamics and mechanics remain unsolved; examples include the formation of sandpiles, nodes in trickling water, the shape of water droplets, mechanisms of <a href=\"/wiki/Surface_tension\" title=\"Surface tension\">surface tension</a> <a href=\"/wiki/Catastrophe_theory\" title=\"Catastrophe theory\">catastrophes</a>, and self-sorting in shaken heterogeneous collections.<sup class=\"reference\" id=\"cite_ref-100\"><a href=\"#cite_note-100\">[94]</a></sup>\n",
            "</p>\n",
            "75: <p>These complex phenomena have received growing attention since the 1970s for several reasons, including the availability of modern mathematical methods and computers, which enabled <a href=\"/wiki/Complex_system\" title=\"Complex system\">complex systems</a> to be modeled in new ways. Complex physics has become part of increasingly <a class=\"mw-redirect\" href=\"/wiki/Interdisciplinary\" title=\"Interdisciplinary\">interdisciplinary</a> research, as exemplified by the study of <a href=\"/wiki/Turbulence\" title=\"Turbulence\">turbulence</a> in <a href=\"/wiki/Aerodynamics\" title=\"Aerodynamics\">aerodynamics</a> and the observation of <a href=\"/wiki/Pattern_formation\" title=\"Pattern formation\">pattern formation</a> in biological systems. In the 1932 <i>Annual Review of Fluid Mechanics</i>, <a href=\"/wiki/Horace_Lamb\" title=\"Horace Lamb\">Horace Lamb</a> said:<sup class=\"reference\" id=\"cite_ref-goldstein1969_101-0\"><a href=\"#cite_note-goldstein1969-101\">[95]</a></sup>\n",
            "</p>\n",
            "76: <p>I am an old man now, and when I die and go to heaven there are two matters on which I hope for enlightenment. One is quantum electrodynamics, and the other is the turbulent motion of fluids. And about the former I am rather optimistic.\n",
            "</p>\n",
            "77: <p><br/>\n",
            "</p>\n"
          ],
          "name": "stdout"
        }
      ]
    },
    {
      "cell_type": "code",
      "metadata": {
        "id": "gRrkH5DzlBjd",
        "colab_type": "code",
        "colab": {
          "base_uri": "https://localhost:8080/",
          "height": 54
        },
        "outputId": "b62cd33f-2df5-476e-91e3-e16ed01d54f3"
      },
      "source": [
        "# paragraph 11 seems like worthwile text to test out on RoBERTa, so store as variable\n",
        "test_text = physics_beautiful_soup.find_all('p')[10].text\n",
        "print(test_text)"
      ],
      "execution_count": 41,
      "outputs": [
        {
          "output_type": "stream",
          "text": [
            "But this is completely erroneous, and our view may be corroborated by actual observation more effectively than by any sort of verbal argument. For if you let fall from the same height two weights of which one is many times as heavy as the other, you will see that the ratio of the times required for the motion does not depend on the ratio of the weights, but that the difference in time is a very small one. And so, if the difference in the weights is not considerable, that is, of one is, let us say, double the other, there will be no difference, or else an imperceptible difference, in time, though the difference in weight is by no means negligible, with one body weighing twice as much as the other[18]\n"
          ],
          "name": "stdout"
        }
      ]
    },
    {
      "cell_type": "code",
      "metadata": {
        "id": "VlTHL2bSlUOY",
        "colab_type": "code",
        "colab": {
          "base_uri": "https://localhost:8080/",
          "height": 54
        },
        "outputId": "1bbb085d-4eb6-47f6-d781-efe23a85fe6c"
      },
      "source": [
        "# strip and format text\n",
        "test_text_clean = test_text.split(\"[18]\")[0] + \".\"\n",
        "print(test_text_clean)"
      ],
      "execution_count": 43,
      "outputs": [
        {
          "output_type": "stream",
          "text": [
            "But this is completely erroneous, and our view may be corroborated by actual observation more effectively than by any sort of verbal argument. For if you let fall from the same height two weights of which one is many times as heavy as the other, you will see that the ratio of the times required for the motion does not depend on the ratio of the weights, but that the difference in time is a very small one. And so, if the difference in the weights is not considerable, that is, of one is, let us say, double the other, there will be no difference, or else an imperceptible difference, in time, though the difference in weight is by no means negligible, with one body weighing twice as much as the other.\n"
          ],
          "name": "stdout"
        }
      ]
    },
    {
      "cell_type": "code",
      "metadata": {
        "id": "wIDPazG0mvWc",
        "colab_type": "code",
        "colab": {
          "base_uri": "https://localhost:8080/",
          "height": 34
        },
        "outputId": "f1389b87-b995-4f1f-9c96-0f25f2fecb5c"
      },
      "source": [
        "# encode this and test on RoBERTa\n",
        "tokens_physics = roberta.encode(test_text_clean, 'The weight of the object determines how fast the object falls.')\n",
        "roberta.predict('mnli', tokens_physics).argmax()  # 0: contradiction"
      ],
      "execution_count": 47,
      "outputs": [
        {
          "output_type": "execute_result",
          "data": {
            "text/plain": [
              "tensor(0)"
            ]
          },
          "metadata": {
            "tags": []
          },
          "execution_count": 47
        }
      ]
    }
  ]
}